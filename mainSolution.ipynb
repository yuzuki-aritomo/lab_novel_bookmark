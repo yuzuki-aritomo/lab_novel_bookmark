{
  "cells": [
    {
      "cell_type": "markdown",
      "metadata": {
        "id": "9nuxWXypnXwN"
      },
      "source": [
        "## データとライブラリの読み込み"
      ]
    },
    {
      "cell_type": "code",
      "execution_count": 64,
      "metadata": {
        "colab": {
          "base_uri": "https://localhost:8080/"
        },
        "id": "qq5LWNaFOXEg",
        "outputId": "a2bad56b-7415-4bd7-cef4-5d0dfaee06cb"
      },
      "outputs": [],
      "source": [
        "import pandas as pd\n",
        "import pandas_profiling\n",
        "import numpy as np\n",
        "\n",
        "#google drive読み込み\n",
        "# from google.colab import drive, files\n",
        "# drive.mount('/content/drive')\n",
        "# dataPath = \"/content/drive/My Drive/01 Lab/novel_bookmark/datasets/\"\n",
        "# test = pd.read_csv(dataPath + 'test.csv')\n",
        "# train = pd.read_csv(dataPath +'train.csv')\n",
        "# sub = pd.read_csv(dataPath +'sample_submission.csv')\n",
        "\n",
        "#local 読み込み\n",
        "dataPath = './datasets/'\n",
        "titlePath = './data/titledata/'\n",
        "keyPath = 'data/keyworddata/'\n",
        "\n",
        "test = pd.read_csv(dataPath + 'test.csv')\n",
        "train = pd.read_csv(dataPath +'train.csv')\n",
        "sub = pd.read_csv(dataPath +'sample_submission.csv')"
      ]
    },
    {
      "cell_type": "markdown",
      "metadata": {
        "id": "Ay7vCCjCZJku"
      },
      "source": [
        "## 特徴量エンジニアリング"
      ]
    },
    {
      "cell_type": "code",
      "execution_count": 65,
      "metadata": {
        "colab": {
          "base_uri": "https://localhost:8080/",
          "height": 419
        },
        "id": "bNYF3ZWvZHqP",
        "outputId": "0a16589b-4437-4ea1-8597-8b0fa5796122"
      },
      "outputs": [],
      "source": [
        "test = pd.read_csv(dataPath + 'test.csv')\n",
        "train = pd.read_csv(dataPath +'train.csv')\n",
        "sub = pd.read_csv(dataPath +'sample_submission.csv')\n",
        "\n",
        "data = pd.concat([train, test], sort=False)#データの統合\n",
        "data = data.reset_index()#indexが重複するためindexを振り直し\n",
        "\n",
        "#必要のないカラムを削除\n",
        "#ncode:小説コード, writer, userid, pc_or_k:小説の投稿機種\n",
        "delete_columns = ['ncode', 'writer', 'userid', 'pc_or_k']\n",
        "data.drop(delete_columns, axis=1, inplace=True)\n",
        "\n",
        "#novel_type (1, 2)を(0, 1)に変更\n",
        "data['novel_type'] = data['novel_type'].map({1: 0, 2: 1})\n",
        "\n",
        "#'general_firstup'(初回投稿日)を今日までの日数に変換\n",
        "import datetime\n",
        "def calc_diff_days(x):#return days(int)\n",
        "  y_m_d = x.split(\" \")[0]\n",
        "  y, m, d = map(int, y_m_d.split(\"-\"))\n",
        "  ymd = datetime.datetime(y, m, d)\n",
        "  diff = datetime.datetime.today() - ymd\n",
        "  return diff.days\n",
        "data['general_firstup'] = data['general_firstup'].map(calc_diff_days)\n",
        "\n",
        "#一時的にテキストデータを削除\n",
        "text_columns = ['title','story', 'keyword']\n",
        "data.drop(text_columns, axis=1, inplace=True)\n",
        "\n",
        "#titleデータをベクトルに変換したものを追加\n",
        "title_data = pd.read_csv(titlePath+'title_vec_learnedModel.csv', index_col=0)#学習済みモデル\n",
        "# title_data = pd.read_csv(titlePath+'title_vec_originalLearned.csv', index_col=0)#自作辞書モデル\n",
        "data = pd.merge(data, title_data, left_index=True, right_index=True, sort=False, how='inner')\n",
        "\n",
        "#keywordデータをベクトルに変換したものを追加\n",
        "key_data = pd.read_csv(keyPath+'key_vec_learnedModel.csv', index_col=0)#学習済みモデル\n",
        "# key_data = pd.read_csv(keyPath+'key_vec_originalModel.csv', index_col=0)#自作辞書モデル\n",
        "data = pd.merge(data, title_data, left_index=True, right_index=True, sort=False, how='inner')\n",
        "\n",
        "#dataをtest, trainに分割\n",
        "train = data[:len(train)]\n",
        "test = data[len(train):]\n"
      ]
    },
    {
      "cell_type": "markdown",
      "metadata": {},
      "source": [
        "### アンダーサンプリング"
      ]
    },
    {
      "cell_type": "code",
      "execution_count": 60,
      "metadata": {},
      "outputs": [
        {
          "name": "stdout",
          "output_type": "stream",
          "text": [
            "3875\n"
          ]
        }
      ],
      "source": [
        "#一時的に欠損値を含むものを削除\n",
        "train = train.dropna(how='any')\n",
        "\n",
        "train0 = train[train['fav_novel_cnt_bin']==0]\n",
        "train1 = train[train['fav_novel_cnt_bin']==1]\n",
        "train2 = train[train['fav_novel_cnt_bin']==2]\n",
        "train3 = train[train['fav_novel_cnt_bin']==3]\n",
        "train4 = train[train['fav_novel_cnt_bin']==4]\n",
        "\n",
        "num = len(train4)\n",
        "train = pd.concat([train0[:num], train1[:num], train2[:num], train3[:num], train4[:num]], sort=False)#データの統合\n",
        "print(len(train))"
      ]
    },
    {
      "cell_type": "markdown",
      "metadata": {
        "id": "ArdCYmj8b3d9"
      },
      "source": [
        "### 訓練データと答えに分割"
      ]
    },
    {
      "cell_type": "code",
      "execution_count": 66,
      "metadata": {
        "colab": {
          "base_uri": "https://localhost:8080/"
        },
        "id": "sbZbTgnFbzlD",
        "outputId": "77195c3d-d96c-4af1-b5f2-8df935278860"
      },
      "outputs": [],
      "source": [
        "#一時的に欠損値を含むものを削除\n",
        "# train = train.dropna(how='any')\n",
        "\n",
        "#data分割\n",
        "x_train = train.drop('fav_novel_cnt_bin', axis=1)#訓練データ\n",
        "y_train = train['fav_novel_cnt_bin']#訓練データの答え\n",
        "\n",
        "from sklearn.model_selection import train_test_split\n",
        "x_train, x_valid, y_train, y_valid = train_test_split(x_train, y_train, test_size=0.3, random_state=0, stratify=y_train)"
      ]
    },
    {
      "cell_type": "markdown",
      "metadata": {
        "id": "Doe6QIWonw8A"
      },
      "source": [
        "## 勾配ブースティング\n"
      ]
    },
    {
      "cell_type": "code",
      "execution_count": 67,
      "metadata": {},
      "outputs": [],
      "source": [
        "import lightgbm as lgb\n",
        "\n",
        "# モデルの学習\n",
        "model = lgb.LGBMClassifier() # モデルのインスタンスの作成\n",
        "model.fit(x_train, y_train) # モデルの学習\n",
        "\n",
        "# テストデータの予測クラス (予測クラス(0 or 1 or 2)を返す)\n",
        "y_pred = model.predict(x_valid)\n",
        "\n",
        "# テストデータのクラス予測確率 (各クラスの予測確率 [クラス0の予測確率,クラス1の予測確率,クラス2の予測確率] を返す)\n",
        "y_pred_prob = model.predict_proba(x_valid)\n",
        "\n"
      ]
    },
    {
      "cell_type": "code",
      "execution_count": 68,
      "metadata": {},
      "outputs": [
        {
          "name": "stdout",
          "output_type": "stream",
          "text": [
            "accuracy =  0.58275\n",
            "score =  0.9527729568327504\n"
          ]
        }
      ],
      "source": [
        "#正答率の確認\n",
        "from sklearn.metrics import accuracy_score\n",
        "def cal_evalation(y_true, y_pred):\n",
        "  tmp = []\n",
        "  for i in range(len(y_true)):\n",
        "    tmp.append([0,0,0,0,0])\n",
        "    tmp[i][int(y_true[i])] = 1\n",
        "  tmp = np.array(tmp)\n",
        "  return -np.sum(tmp * np.log(y_pred)) / len(y_true)\n",
        "\n",
        "print('accuracy = ', accuracy_score(y_true=y_valid.values, y_pred=y_pred))\n",
        "print('score = ', cal_evalation(y_true=y_valid.values, y_pred=y_pred_prob))"
      ]
    },
    {
      "cell_type": "markdown",
      "metadata": {},
      "source": [
        "### submission用に変換"
      ]
    },
    {
      "cell_type": "code",
      "execution_count": 71,
      "metadata": {},
      "outputs": [],
      "source": [
        "\n",
        "# test = test.drop('fav_novel_cnt_bin', axis=1)\n",
        "y_pred = model.predict(test)\n",
        "y_pred_prob = model.predict_proba(test)\n",
        "\n",
        "predData = pd.DataFrame(y_pred_prob)\n",
        "sub = pd.read_csv(dataPath +'sample_submission.csv')\n",
        "sub['proba_0'] = predData[0]\n",
        "sub['proba_1'] = predData[1]\n",
        "sub['proba_2'] = predData[2]\n",
        "sub['proba_3'] = predData[3]\n",
        "sub['proba_4'] = predData[4]\n",
        "sub.to_csv('./data/sub/2021-10-21.csv', index=False)"
      ]
    }
  ],
  "metadata": {
    "colab": {
      "collapsed_sections": [
        "BJFOVOhQn54z"
      ],
      "name": "mainSution.ipynb",
      "provenance": []
    },
    "interpreter": {
      "hash": "6f371c1edc13f10b1623f8473fa71877fe279074a94f999a2097c9dc15f19259"
    },
    "kernelspec": {
      "display_name": "Python 3.9.2 64-bit",
      "name": "python3"
    },
    "language_info": {
      "codemirror_mode": {
        "name": "ipython",
        "version": 3
      },
      "file_extension": ".py",
      "mimetype": "text/x-python",
      "name": "python",
      "nbconvert_exporter": "python",
      "pygments_lexer": "ipython3",
      "version": "3.9.2"
    }
  },
  "nbformat": 4,
  "nbformat_minor": 2
}
