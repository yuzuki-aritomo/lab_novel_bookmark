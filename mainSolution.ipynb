{
  "cells": [
    {
      "cell_type": "markdown",
      "metadata": {
        "id": "9nuxWXypnXwN"
      },
      "source": [
        "# データとライブラリの読み込み"
      ]
    },
    {
      "cell_type": "code",
      "execution_count": 1,
      "metadata": {
        "colab": {
          "base_uri": "https://localhost:8080/"
        },
        "id": "qq5LWNaFOXEg",
        "outputId": "a2bad56b-7415-4bd7-cef4-5d0dfaee06cb"
      },
      "outputs": [
        {
          "name": "stdout",
          "output_type": "stream",
          "text": [
            "40000\n"
          ]
        }
      ],
      "source": [
        "import pandas as pd\n",
        "import numpy as np\n",
        "from sklearn.ensemble import RandomForestClassifier\n",
        "from sklearn.model_selection import StratifiedKFold\n",
        "\n",
        "import pprint\n",
        "\n",
        "# CatBoostを利用した分類\n",
        "import lightgbm as lgb\n",
        "\n",
        "from sklearn.model_selection import GridSearchCV\n",
        "# 指標を計算するため\n",
        "from sklearn.metrics import accuracy_score, cohen_kappa_score, make_scorer, f1_score, recall_score\n",
        "\n",
        "\n",
        "#google drive読み込み\n",
        "# from google.colab import drive, files\n",
        "# drive.mount('/content/drive')\n",
        "# dataPath = \"/content/drive/My Drive/01 Lab/novel_bookmark/datasets/\"\n",
        "# test = pd.read_csv(dataPath + 'test.csv')\n",
        "# train = pd.read_csv(dataPath +'train.csv')\n",
        "# sub = pd.read_csv(dataPath +'sample_submission.csv')\n",
        "\n",
        "#local 読み込み\n",
        "dataPath = './datasets/'\n",
        "titlePath = './data/titledata/'\n",
        "keyPath = './data/keyworddata/'\n",
        "storyPath = './data/storydata/'\n",
        "allPath = './data/all/'\n",
        "\n",
        "test = pd.read_csv(dataPath + 'test.csv')\n",
        "train = pd.read_csv(dataPath +'train.csv')\n",
        "sub = pd.read_csv(dataPath +'sample_submission.csv')\n",
        "\n",
        "print(len(train))"
      ]
    },
    {
      "cell_type": "markdown",
      "metadata": {
        "id": "Ay7vCCjCZJku"
      },
      "source": [
        "# 特徴量エンジニアリング"
      ]
    },
    {
      "cell_type": "code",
      "execution_count": 38,
      "metadata": {
        "colab": {
          "base_uri": "https://localhost:8080/",
          "height": 419
        },
        "id": "bNYF3ZWvZHqP",
        "outputId": "0a16589b-4437-4ea1-8597-8b0fa5796122"
      },
      "outputs": [
        {
          "name": "stdout",
          "output_type": "stream",
          "text": [
            "len(data): 48522\n"
          ]
        }
      ],
      "source": [
        "test = pd.read_csv(dataPath + 'test.csv')\n",
        "train = pd.read_csv(dataPath +'train.csv')\n",
        "sub = pd.read_csv(dataPath +'sample_submission.csv')\n",
        "\n",
        "data = pd.concat([train, test], sort=False)#データの統合\n",
        "data = data.reset_index()#indexが重複するためindexを振り直し\n",
        "\n",
        "print(\"len(data):\", len(data))\n",
        "\n",
        "#必要のないカラムを削除\n",
        "#ncode:小説コード, writer, userid, pc_or_k:小説の投稿機種\n",
        "delete_columns = ['ncode', 'writer', 'userid', 'pc_or_k', 'general_firstup']\n",
        "data.drop(delete_columns, axis=1, inplace=True)\n",
        "\n",
        "#novel_type (1, 2)を(0, 1)に変更\n",
        "data['novel_type'] = data['novel_type'].map({1: 0, 2: 1})\n",
        "\n",
        "#'general_firstup'(初回投稿日)を今日までの日数に変換\n",
        "import datetime\n",
        "def calc_diff_days(x):#return days(int)\n",
        "  y_m_d = x.split(\" \")[0]\n",
        "  y, m, d = map(int, y_m_d.split(\"-\"))\n",
        "  ymd = datetime.datetime(y, m, d)\n",
        "  diff = datetime.datetime.today() - ymd\n",
        "  return diff.days\n",
        "# data['general_firstup'] = data['general_firstup'].map(calc_diff_days)\n",
        "\n",
        "#テキストデータを削除\n",
        "text_columns = ['title','story', 'keyword']\n",
        "data.drop(text_columns, axis=1, inplace=True)\n",
        "\n",
        "#titleデータをベクトルに変換したものを追加\n",
        "# title_data = pd.read_csv(titlePath+'title_vec_learnedModel.csv', index_col=0)#学習済みモデル\n",
        "# title_data = pd.read_csv(titlePath+'title_vec_originalLearned_300.csv', index_col=0)#自作辞書モデル\n",
        "title_data = pd.read_csv(allPath+'title_mecab_vec_tdidf_50.csv', index_col=0)#自作辞書モデル\n",
        "data = pd.merge(data, title_data, left_index=True, right_index=True, sort=False, how='inner')\n",
        "\n",
        "#keywordデータをベクトルに変換したものを追加\n",
        "# key_data = pd.read_csv(keyPath+'key_vec_learnedModel.csv', index_col=0)#学習済みモデル\n",
        "# key_data = pd.read_csv(keyPath+'key_vec_originalModel.csv', index_col=0)#自作辞書モデル\n",
        "key_data = pd.read_csv(allPath+'key_vec_mecab_tdidf_50.csv', index_col=0)#自作辞書モデル\n",
        "data = pd.merge(data, key_data, left_index=True, right_index=True, sort=False, how='inner')\n",
        "\n",
        "#storyデータをベクトルに変換したものを追加\n",
        "# story_data = pd.read_csv(storyPath+'vec_learnedModel.csv', index_col=0)#学習済みモデル\n",
        "story_data = pd.read_csv(allPath+'story_vec_mecab_tdidf_50.csv', index_col=0)#自作辞書モデル\n",
        "data = pd.merge(data, story_data, left_index=True, right_index=True, sort=False, how='inner')\n",
        "\n",
        "# storyデータの文字数を追加\n",
        "# count_story_data = pd.read_csv(storyPath+ 'count.csv')\n",
        "# data = pd.merge(data, count_story_data, left_index=True, right_index=True, sort=False, how='inner')\n",
        "\n",
        "import re\n",
        "data = data.rename(columns = lambda x:re.sub('[^A-Za-z0-9_]+', '', x))\n",
        "\n",
        "data = data.fillna(0)\n",
        "\n",
        "data.drop('index', axis=1, inplace=True)\n",
        "\n",
        "#dataをtest, trainに分割\n",
        "train = data[:len(train)]\n",
        "test = data[len(train):]\n"
      ]
    },
    {
      "cell_type": "code",
      "execution_count": 20,
      "metadata": {},
      "outputs": [
        {
          "data": {
            "text/plain": [
              "Int64Index([    7,     9,    10,    11,    14,    15,    21,    58,    64,\n",
              "               70,\n",
              "            ...\n",
              "            39253, 39299, 39464, 39475, 39659, 39671, 39786, 39787, 39793,\n",
              "            39979],\n",
              "           dtype='int64', length=4070)"
            ]
          },
          "execution_count": 20,
          "metadata": {},
          "output_type": "execute_result"
        }
      ],
      "source": [
        "train.columns\n",
        "train.index"
      ]
    },
    {
      "cell_type": "markdown",
      "metadata": {},
      "source": [
        "# サンプリング"
      ]
    },
    {
      "cell_type": "markdown",
      "metadata": {},
      "source": [
        "## アンダーサンプリング"
      ]
    },
    {
      "cell_type": "code",
      "execution_count": 19,
      "metadata": {},
      "outputs": [
        {
          "name": "stdout",
          "output_type": "stream",
          "text": [
            "4070\n"
          ]
        }
      ],
      "source": [
        "#一時的に欠損値を含むものを削除\n",
        "# train = train.dropna(how='any')\n",
        "\n",
        "train0 = train[train['fav_novel_cnt_bin']==0]\n",
        "train1 = train[train['fav_novel_cnt_bin']==1]\n",
        "train2 = train[train['fav_novel_cnt_bin']==2]\n",
        "train3 = train[train['fav_novel_cnt_bin']==3]\n",
        "train4 = train[train['fav_novel_cnt_bin']==4]\n",
        "\n",
        "\n",
        "#todo train list 等に突っ込んでアンダーサンプリングでloggingする\n",
        "num = len(train4)\n",
        "train = pd.concat([train0[:num], train1[:num], train2[:num], train3[:num], train4[:num]], sort=False)#データの統合\n",
        "print(len(train))"
      ]
    },
    {
      "cell_type": "markdown",
      "metadata": {},
      "source": [
        "## オーバーサンプリング"
      ]
    },
    {
      "cell_type": "markdown",
      "metadata": {},
      "source": [
        "### SMOTE"
      ]
    },
    {
      "cell_type": "code",
      "execution_count": 39,
      "metadata": {},
      "outputs": [],
      "source": [
        "#data分割\n",
        "train = train.fillna(0)\n",
        "\n",
        "x_train = train.drop('fav_novel_cnt_bin', axis=1)#訓練データ\n",
        "y_train = train['fav_novel_cnt_bin']#訓練データの答え\n",
        "\n",
        "# from sklearn.model_selection import train_test_split\n",
        "# x_train, x_valid, y_train, y_valid = train_test_split(x_train, y_train, test_size=0.3, random_state=0, stratify=y_train)\n",
        "\n",
        "from imblearn.over_sampling import SMOTE\n",
        "sm = SMOTE()\n",
        "x_resampled, y_resampled = sm.fit_resample(x_train, y_train)\n",
        "x_train = x_resampled\n",
        "y_train = y_resampled"
      ]
    },
    {
      "cell_type": "markdown",
      "metadata": {},
      "source": [
        "### 復元抽出"
      ]
    },
    {
      "cell_type": "code",
      "execution_count": 6,
      "metadata": {},
      "outputs": [],
      "source": [
        "train0 = train[train['fav_novel_cnt_bin']==0]\n",
        "train1 = train[train['fav_novel_cnt_bin']==1]\n",
        "train2 = train[train['fav_novel_cnt_bin']==2]\n",
        "train3 = train[train['fav_novel_cnt_bin']==3]\n",
        "train4 = train[train['fav_novel_cnt_bin']==4]\n",
        "\n",
        "num_train0 = len(train0)\n",
        "train = pd.concat(\n",
        "  [\n",
        "    train0.sample(n=num_train0, replace=True),\n",
        "    train1.sample(n=num_train0, replace=True),\n",
        "    train2.sample(n=num_train0, replace=True),\n",
        "    train3.sample(n=num_train0, replace=True),\n",
        "    train4.sample(n=num_train0, replace=True),\n",
        "  ],\n",
        "  sort=False\n",
        ")"
      ]
    },
    {
      "cell_type": "markdown",
      "metadata": {
        "id": "Doe6QIWonw8A"
      },
      "source": [
        "# 機械学習\n"
      ]
    },
    {
      "cell_type": "markdown",
      "metadata": {},
      "source": [
        "### 訓練データ"
      ]
    },
    {
      "cell_type": "code",
      "execution_count": 4,
      "metadata": {},
      "outputs": [],
      "source": [
        "#data分割\n",
        "x_train = train.drop('fav_novel_cnt_bin', axis=1)#訓練データ\n",
        "y_train = train['fav_novel_cnt_bin']#訓練データの答え"
      ]
    },
    {
      "cell_type": "markdown",
      "metadata": {
        "id": "ArdCYmj8b3d9"
      },
      "source": [
        "### 訓練データと答えに分割"
      ]
    },
    {
      "cell_type": "code",
      "execution_count": 7,
      "metadata": {
        "colab": {
          "base_uri": "https://localhost:8080/"
        },
        "id": "sbZbTgnFbzlD",
        "outputId": "77195c3d-d96c-4af1-b5f2-8df935278860"
      },
      "outputs": [],
      "source": [
        "#data分割\n",
        "x_train = train.drop('fav_novel_cnt_bin', axis=1)#訓練データ\n",
        "y_train = train['fav_novel_cnt_bin']#訓練データの答え\n",
        "\n",
        "from sklearn.model_selection import train_test_split\n",
        "x_train, x_valid, y_train, y_valid = train_test_split(x_train, y_train, test_size=0.3, random_state=0, stratify=y_train)"
      ]
    },
    {
      "cell_type": "markdown",
      "metadata": {},
      "source": [
        "## 学習モデル"
      ]
    },
    {
      "cell_type": "markdown",
      "metadata": {},
      "source": [
        "### 勾配ブースティング"
      ]
    },
    {
      "cell_type": "code",
      "execution_count": 40,
      "metadata": {},
      "outputs": [
        {
          "data": {
            "text/plain": [
              "LGBMClassifier(learning_rate=0.05, max_depth=75, num_leaves=300)"
            ]
          },
          "execution_count": 40,
          "metadata": {},
          "output_type": "execute_result"
        }
      ],
      "source": [
        "import lightgbm as lgb\n",
        "\n",
        "# モデルの学習\n",
        "model = lgb.LGBMClassifier(\n",
        "  learning_rate=0.05,\n",
        "  num_leaves=300,\n",
        "  max_depth=75\n",
        ")\n",
        "model.fit(x_train, y_train)\n",
        "\n",
        "# テストデータの予測クラス (予測クラス(0 or 1 or 2)を返す)\n",
        "# y_pred = model.predict(x_valid)\n",
        "\n",
        "# テストデータのクラス予測確率 (各クラスの予測確率 [クラス0の予測確率,クラス1の予測確率,クラス2の予測確率] を返す)\n",
        "# y_pred_prob = model.predict_proba(x_valid)"
      ]
    },
    {
      "cell_type": "markdown",
      "metadata": {},
      "source": [
        "### ランダムフォレスト"
      ]
    },
    {
      "cell_type": "code",
      "execution_count": 37,
      "metadata": {},
      "outputs": [
        {
          "data": {
            "text/plain": [
              "RandomForestClassifier()"
            ]
          },
          "execution_count": 37,
          "metadata": {},
          "output_type": "execute_result"
        }
      ],
      "source": [
        "from sklearn.ensemble import RandomForestClassifier\n",
        "\n",
        "randomforest = RandomForestClassifier()\n",
        "randomforest.fit(x_train, y_train)\n",
        "# y_pred = randomforest.predict(x_valid)\n",
        "# y_pred_prob = randomforest.predict_proba(x_valid)"
      ]
    },
    {
      "cell_type": "markdown",
      "metadata": {},
      "source": [
        "### ロジスティック回帰"
      ]
    },
    {
      "cell_type": "code",
      "execution_count": null,
      "metadata": {},
      "outputs": [],
      "source": [
        "from sklearn.linear_model import LogisticRegression\n",
        "\n",
        "logreg = LogisticRegression()\n",
        "logreg.fit(x_train, y_train)\n",
        "# pred = logreg.predict(x_valid)\n",
        "# y_pred = logreg.predict(x_valid)\n",
        "# y_pred_prob = logreg.predict_proba(x_valid)"
      ]
    },
    {
      "cell_type": "code",
      "execution_count": null,
      "metadata": {},
      "outputs": [],
      "source": [
        "#正答率の確認\n",
        "from sklearn.metrics import accuracy_score\n",
        "def calc_score(y_true, y_pred):\n",
        "  tmp = []\n",
        "  for i in range(len(y_true)):\n",
        "    tmp.append([0,0,0,0,0])\n",
        "    tmp[i][int(y_true[i])] = 1\n",
        "  tmp = np.array(tmp)\n",
        "  #確率が極端な場合クリップ（損失が大きくなりすぎるため）\n",
        "  y_pred = np.where(y_pred<=0.001, 0.001, y_pred)\n",
        "  y_pred = np.where(y_pred>=0.999, 0.999, y_pred)\n",
        "  return -np.sum(tmp * np.log(y_pred)) / len(y_true)\n",
        "\n",
        "print('accuracy = ', accuracy_score(y_true=y_valid.values, y_pred=y_pred))\n",
        "print('score = ', calc_score(y_true=y_valid.values, y_pred=y_pred_prob))"
      ]
    },
    {
      "cell_type": "markdown",
      "metadata": {},
      "source": [
        "## submission用に変換"
      ]
    },
    {
      "cell_type": "code",
      "execution_count": 37,
      "metadata": {},
      "outputs": [],
      "source": [
        "\n",
        "# model = randomforest\n",
        "\n",
        "test = test.drop('fav_novel_cnt_bin', axis=1)\n",
        "test = test.fillna(0)\n",
        "y_pred = model.predict(test)\n",
        "y_pred_prob = model.predict_proba(test)\n",
        "\n",
        "#確率が極端な場合クリップ（損失が大きくなりすぎるため）\n",
        "y_pred_prob = np.where(y_pred_prob<=0.001, 0.001, y_pred_prob)\n",
        "y_pred_prob = np.where(y_pred_prob>=0.999, 0.999, y_pred_prob)\n",
        "\n",
        "predData = pd.DataFrame(y_pred_prob)\n",
        "sub = pd.read_csv(dataPath +'sample_submission.csv')\n",
        "sub['proba_0'] = predData[0]\n",
        "sub['proba_1'] = predData[1]\n",
        "sub['proba_2'] = predData[2]\n",
        "sub['proba_3'] = predData[3]\n",
        "sub['proba_4'] = predData[4]\n",
        "\n",
        "import datetime\n",
        "now = datetime.datetime.now()\n",
        "filename = str(now.year)+'-'+str(now.month)+'-'+ str(now.day) +'-'+ str(now.hour)+'-'+str(now.minute)\n",
        "sub.to_csv('./data/sub/'+ filename +'.csv', index=False)\n"
      ]
    },
    {
      "cell_type": "code",
      "execution_count": 31,
      "metadata": {},
      "outputs": [],
      "source": [
        "# 特徴量重要度の算出 (データフレームで取得)\n",
        "# データフレームを綺麗に出力する関数\n",
        "import IPython\n",
        "def display(*dfs, head=True):\n",
        "    for df in dfs:\n",
        "        IPython.display.display(df.head() if head else df)\n",
        "\n",
        "cols = list(train.drop(['fav_novel_cnt_bin'],axis=1).columns)         # 特徴量名のリスト(目的変数CRIM以外)\n",
        "# f_importance = np.array(model.feature_importance()) # 特徴量重要度の算出\n",
        "# f_importance = f_importance / np.sum(f_importance)  # 正規化(必要ない場合はコメントアウト)\n",
        "# df_importance = pd.DataFrame({'feature':cols, 'importance':f_importance})\n",
        "# df_importance = df_importance.sort_values('importance', ascending=False) # 降順ソート\n",
        "\n",
        "importance = pd.DataFrame(model.feature_importances_, index=cols, columns=['importance'])\n",
        "# display(importance)\n",
        "importance.to_csv('./tmp/importance.csv')\n"
      ]
    },
    {
      "cell_type": "code",
      "execution_count": 12,
      "metadata": {},
      "outputs": [
        {
          "data": {
            "text/plain": [
              "['index',\n",
              " 'biggenre',\n",
              " 'genre',\n",
              " 'novel_type',\n",
              " 'end',\n",
              " 'isstop',\n",
              " 'isr15',\n",
              " 'isbl',\n",
              " 'isgl',\n",
              " 'iszankoku',\n",
              " 'istensei',\n",
              " 'istenni',\n",
              " '0_x',\n",
              " '1_x',\n",
              " '2_x',\n",
              " '3_x',\n",
              " '4_x',\n",
              " '5_x',\n",
              " '6_x',\n",
              " '7_x',\n",
              " '8_x',\n",
              " '9_x',\n",
              " '10_x',\n",
              " '11_x',\n",
              " '12_x',\n",
              " '13_x',\n",
              " '14_x',\n",
              " '15_x',\n",
              " '16_x',\n",
              " '17_x',\n",
              " '18_x',\n",
              " '19_x',\n",
              " '20_x',\n",
              " '21_x',\n",
              " '22_x',\n",
              " '23_x',\n",
              " '24_x',\n",
              " '25_x',\n",
              " '26_x',\n",
              " '27_x',\n",
              " '28_x',\n",
              " '29_x',\n",
              " '30_x',\n",
              " '31_x',\n",
              " '32_x',\n",
              " '33_x',\n",
              " '34_x',\n",
              " '35_x',\n",
              " '36_x',\n",
              " '37_x',\n",
              " '38_x',\n",
              " '39_x',\n",
              " '40_x',\n",
              " '41_x',\n",
              " '42_x',\n",
              " '43_x',\n",
              " '44_x',\n",
              " '45_x',\n",
              " '46_x',\n",
              " '47_x',\n",
              " '48_x',\n",
              " '49_x',\n",
              " '0_y',\n",
              " '1_y',\n",
              " '2_y',\n",
              " '3_y',\n",
              " '4_y',\n",
              " '5_y',\n",
              " '6_y',\n",
              " '7_y',\n",
              " '8_y',\n",
              " '9_y',\n",
              " '10_y',\n",
              " '11_y',\n",
              " '12_y',\n",
              " '13_y',\n",
              " '14_y',\n",
              " '15_y',\n",
              " '16_y',\n",
              " '17_y',\n",
              " '18_y',\n",
              " '19_y',\n",
              " '20_y',\n",
              " '21_y',\n",
              " '22_y',\n",
              " '23_y',\n",
              " '24_y',\n",
              " '25_y',\n",
              " '26_y',\n",
              " '27_y',\n",
              " '28_y',\n",
              " '29_y',\n",
              " '30_y',\n",
              " '31_y',\n",
              " '32_y',\n",
              " '33_y',\n",
              " '34_y',\n",
              " '35_y',\n",
              " '36_y',\n",
              " '37_y',\n",
              " '38_y',\n",
              " '39_y',\n",
              " '40_y',\n",
              " '41_y',\n",
              " '42_y',\n",
              " '43_y',\n",
              " '44_y',\n",
              " '45_y',\n",
              " '46_y',\n",
              " '47_y',\n",
              " '48_y',\n",
              " '49_y',\n",
              " '50_x',\n",
              " '51_x',\n",
              " '52_x',\n",
              " '53_x',\n",
              " '54_x',\n",
              " '55_x',\n",
              " '56_x',\n",
              " '57_x',\n",
              " '58_x',\n",
              " '59_x',\n",
              " '60_x',\n",
              " '61_x',\n",
              " '62_x',\n",
              " '63_x',\n",
              " '64_x',\n",
              " '65_x',\n",
              " '66_x',\n",
              " '67_x',\n",
              " '68_x',\n",
              " '69_x',\n",
              " '70_x',\n",
              " '71_x',\n",
              " '72_x',\n",
              " '73_x',\n",
              " '74_x',\n",
              " '75_x',\n",
              " '76_x',\n",
              " '77_x',\n",
              " '78_x',\n",
              " '79_x',\n",
              " '80_x',\n",
              " '81_x',\n",
              " '82_x',\n",
              " '83_x',\n",
              " '84_x',\n",
              " '85_x',\n",
              " '86_x',\n",
              " '87_x',\n",
              " '88_x',\n",
              " '89_x',\n",
              " '90_x',\n",
              " '91_x',\n",
              " '92_x',\n",
              " '93_x',\n",
              " '94_x',\n",
              " '95_x',\n",
              " '96_x',\n",
              " '97_x',\n",
              " '98_x',\n",
              " '99_x',\n",
              " '0',\n",
              " '1',\n",
              " '2',\n",
              " '3',\n",
              " '4',\n",
              " '5',\n",
              " '6',\n",
              " '7',\n",
              " '8',\n",
              " '9',\n",
              " '10',\n",
              " '11',\n",
              " '12',\n",
              " '13',\n",
              " '14',\n",
              " '15',\n",
              " '16',\n",
              " '17',\n",
              " '18',\n",
              " '19',\n",
              " '20',\n",
              " '21',\n",
              " '22',\n",
              " '23',\n",
              " '24',\n",
              " '25',\n",
              " '26',\n",
              " '27',\n",
              " '28',\n",
              " '29',\n",
              " '30',\n",
              " '31',\n",
              " '32',\n",
              " '33',\n",
              " '34',\n",
              " '35',\n",
              " '36',\n",
              " '37',\n",
              " '38',\n",
              " '39',\n",
              " '40',\n",
              " '41',\n",
              " '42',\n",
              " '43',\n",
              " '44',\n",
              " '45',\n",
              " '46',\n",
              " '47',\n",
              " '48',\n",
              " '49',\n",
              " '50_y',\n",
              " '51_y',\n",
              " '52_y',\n",
              " '53_y',\n",
              " '54_y',\n",
              " '55_y',\n",
              " '56_y',\n",
              " '57_y',\n",
              " '58_y',\n",
              " '59_y',\n",
              " '60_y',\n",
              " '61_y',\n",
              " '62_y',\n",
              " '63_y',\n",
              " '64_y',\n",
              " '65_y',\n",
              " '66_y',\n",
              " '67_y',\n",
              " '68_y',\n",
              " '69_y',\n",
              " '70_y',\n",
              " '71_y',\n",
              " '72_y',\n",
              " '73_y',\n",
              " '74_y',\n",
              " '75_y',\n",
              " '76_y',\n",
              " '77_y',\n",
              " '78_y',\n",
              " '79_y',\n",
              " '80_y',\n",
              " '81_y',\n",
              " '82_y',\n",
              " '83_y',\n",
              " '84_y',\n",
              " '85_y',\n",
              " '86_y',\n",
              " '87_y',\n",
              " '88_y',\n",
              " '89_y',\n",
              " '90_y',\n",
              " '91_y',\n",
              " '92_y',\n",
              " '93_y',\n",
              " '94_y',\n",
              " '95_y',\n",
              " '96_y',\n",
              " '97_y',\n",
              " '98_y',\n",
              " '99_y']"
            ]
          },
          "execution_count": 12,
          "metadata": {},
          "output_type": "execute_result"
        }
      ],
      "source": [
        "cols"
      ]
    }
  ],
  "metadata": {
    "colab": {
      "collapsed_sections": [
        "BJFOVOhQn54z"
      ],
      "name": "mainSution.ipynb",
      "provenance": []
    },
    "interpreter": {
      "hash": "6f371c1edc13f10b1623f8473fa71877fe279074a94f999a2097c9dc15f19259"
    },
    "kernelspec": {
      "display_name": "Python 3.9.2 64-bit",
      "name": "python3"
    },
    "language_info": {
      "codemirror_mode": {
        "name": "ipython",
        "version": 3
      },
      "file_extension": ".py",
      "mimetype": "text/x-python",
      "name": "python",
      "nbconvert_exporter": "python",
      "pygments_lexer": "ipython3",
      "version": "3.9.2"
    }
  },
  "nbformat": 4,
  "nbformat_minor": 2
}
