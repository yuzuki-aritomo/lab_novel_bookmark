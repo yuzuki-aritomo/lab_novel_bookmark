{
  "nbformat": 4,
  "nbformat_minor": 2,
  "metadata": {
    "colab": {
      "name": "mainSution.ipynb",
      "provenance": [],
      "collapsed_sections": [
        "BJFOVOhQn54z"
      ]
    },
    "kernelspec": {
      "name": "python3",
      "display_name": "Python 3.9.2 64-bit"
    },
    "language_info": {
      "name": "python",
      "version": "3.9.2",
      "mimetype": "text/x-python",
      "codemirror_mode": {
        "name": "ipython",
        "version": 3
      },
      "pygments_lexer": "ipython3",
      "nbconvert_exporter": "python",
      "file_extension": ".py"
    },
    "interpreter": {
      "hash": "6f371c1edc13f10b1623f8473fa71877fe279074a94f999a2097c9dc15f19259"
    }
  },
  "cells": [
    {
      "cell_type": "markdown",
      "source": [
        "## データとライブラリの読み込み"
      ],
      "metadata": {
        "id": "9nuxWXypnXwN"
      }
    },
    {
      "cell_type": "code",
      "execution_count": 23,
      "source": [
        "import pandas as pd\r\n",
        "import pandas_profiling\r\n",
        "import numpy as np\r\n",
        "\r\n",
        "#google drive読み込み\r\n",
        "# from google.colab import drive, files\r\n",
        "# drive.mount('/content/drive')\r\n",
        "# dataPath = \"/content/drive/My Drive/01 Lab/novel_bookmark/datasets/\"\r\n",
        "# test = pd.read_csv(dataPath + 'test.csv')\r\n",
        "# train = pd.read_csv(dataPath +'train.csv')\r\n",
        "# sub = pd.read_csv(dataPath +'sample_submission.csv')\r\n",
        "\r\n",
        "#local 読み込み\r\n",
        "dataPath = \"datasets/\"\r\n",
        "test = pd.read_csv(dataPath + 'test.csv')\r\n",
        "train = pd.read_csv(dataPath +'train.csv')\r\n",
        "sub = pd.read_csv(dataPath +'sample_submission.csv')"
      ],
      "outputs": [],
      "metadata": {
        "colab": {
          "base_uri": "https://localhost:8080/"
        },
        "id": "qq5LWNaFOXEg",
        "outputId": "a2bad56b-7415-4bd7-cef4-5d0dfaee06cb"
      }
    },
    {
      "cell_type": "markdown",
      "source": [
        "## データの可視化、確認"
      ],
      "metadata": {
        "id": "BJFOVOhQn54z"
      }
    },
    {
      "cell_type": "code",
      "execution_count": 24,
      "source": [
        "#データの可視化\r\n",
        "# !pip install pandas-profiling\r\n",
        "# !pip install --upgrade pandas_profiling\r\n",
        "# train.profile_report()"
      ],
      "outputs": [],
      "metadata": {
        "id": "Xz8LhvAgOuQE"
      }
    },
    {
      "cell_type": "code",
      "execution_count": 25,
      "source": [
        "df = train\r\n",
        "print(len(df[train['fav_novel_cnt_bin']==4]))\r\n",
        "\r\n",
        "\r\n",
        "sub = df[train['fav_novel_cnt_bin']==4]\r\n",
        "sub.to_csv('pre_file.csv', index=False)\r\n",
        "files.download('pre_file.csv')"
      ],
      "outputs": [
        {
          "output_type": "stream",
          "name": "stdout",
          "text": [
            "814\n"
          ]
        },
        {
          "output_type": "error",
          "ename": "NameError",
          "evalue": "name 'files' is not defined",
          "traceback": [
            "\u001b[1;31m---------------------------------------------------------------------------\u001b[0m",
            "\u001b[1;31mNameError\u001b[0m                                 Traceback (most recent call last)",
            "\u001b[1;32m<ipython-input-25-35e3959d85be>\u001b[0m in \u001b[0;36m<module>\u001b[1;34m\u001b[0m\n\u001b[0;32m      5\u001b[0m \u001b[0msub\u001b[0m \u001b[1;33m=\u001b[0m \u001b[0mdf\u001b[0m\u001b[1;33m[\u001b[0m\u001b[0mtrain\u001b[0m\u001b[1;33m[\u001b[0m\u001b[1;34m'fav_novel_cnt_bin'\u001b[0m\u001b[1;33m]\u001b[0m\u001b[1;33m==\u001b[0m\u001b[1;36m4\u001b[0m\u001b[1;33m]\u001b[0m\u001b[1;33m\u001b[0m\u001b[1;33m\u001b[0m\u001b[0m\n\u001b[0;32m      6\u001b[0m \u001b[0msub\u001b[0m\u001b[1;33m.\u001b[0m\u001b[0mto_csv\u001b[0m\u001b[1;33m(\u001b[0m\u001b[1;34m'pre_file.csv'\u001b[0m\u001b[1;33m,\u001b[0m \u001b[0mindex\u001b[0m\u001b[1;33m=\u001b[0m\u001b[1;32mFalse\u001b[0m\u001b[1;33m)\u001b[0m\u001b[1;33m\u001b[0m\u001b[1;33m\u001b[0m\u001b[0m\n\u001b[1;32m----> 7\u001b[1;33m \u001b[0mfiles\u001b[0m\u001b[1;33m.\u001b[0m\u001b[0mdownload\u001b[0m\u001b[1;33m(\u001b[0m\u001b[1;34m'pre_file.csv'\u001b[0m\u001b[1;33m)\u001b[0m\u001b[1;33m\u001b[0m\u001b[1;33m\u001b[0m\u001b[0m\n\u001b[0m",
            "\u001b[1;31mNameError\u001b[0m: name 'files' is not defined"
          ]
        }
      ],
      "metadata": {
        "colab": {
          "base_uri": "https://localhost:8080/",
          "height": 129
        },
        "id": "l6YC_g4pWEuT",
        "outputId": "e5492c2e-6fc7-4065-9a79-ccff31b387f0"
      }
    },
    {
      "cell_type": "markdown",
      "source": [
        "## 特徴量エンジニアリング"
      ],
      "metadata": {
        "id": "Ay7vCCjCZJku"
      }
    },
    {
      "cell_type": "code",
      "execution_count": null,
      "source": [
        "test = pd.read_csv(dataPath + 'test.csv')\r\n",
        "train = pd.read_csv(dataPath +'train.csv')\r\n",
        "sub = pd.read_csv(dataPath +'sample_submission.csv')\r\n",
        "\r\n",
        "data = pd.concat([train, test], sort=False)#データの統合\r\n",
        "\r\n",
        "#必要のないカラムを削除\r\n",
        "#ncode:小説コード, writer, userid, pc_or_k:小説の投稿機種 \r\n",
        "delete_columns = ['ncode','writer', 'userid', 'pc_or_k']\r\n",
        "data.drop(delete_columns, axis=1, inplace=True)\r\n",
        "\r\n",
        "#novel_type (1, 2)を(0, 1)に変更\r\n",
        "data['novel_type'] = data['novel_type'].map({1: 0, 2: 1})\r\n",
        "\r\n",
        "#'general_firstup'(初回投稿日)を今日までの日数に変換\r\n",
        "import datetime\r\n",
        "def calc_diff_days(x):#return days(int)\r\n",
        "  y_m_d = x.split(\" \")[0]\r\n",
        "  y, m, d = map(int, y_m_d.split(\"-\"))\r\n",
        "  ymd = datetime.datetime(y, m, d)\r\n",
        "  diff = datetime.datetime.today() - ymd\r\n",
        "  return diff.days\r\n",
        "data['general_firstup'] = data['general_firstup'].map(calc_diff_days)\r\n",
        "\r\n",
        "#一時的にテキストデータを削除\r\n",
        "text_columns = ['title','story', 'keyword']\r\n",
        "data.drop(text_columns, axis=1, inplace=True)\r\n",
        "\r\n",
        "#dataをtest, trainに分割\r\n",
        "train = data[:len(train)]\r\n",
        "test = data[len(train):]\r\n",
        "\r\n",
        "train"
      ],
      "outputs": [
        {
          "output_type": "execute_result",
          "data": {
            "text/html": [
              "<div>\n",
              "<style scoped>\n",
              "    .dataframe tbody tr th:only-of-type {\n",
              "        vertical-align: middle;\n",
              "    }\n",
              "\n",
              "    .dataframe tbody tr th {\n",
              "        vertical-align: top;\n",
              "    }\n",
              "\n",
              "    .dataframe thead th {\n",
              "        text-align: right;\n",
              "    }\n",
              "</style>\n",
              "<table border=\"1\" class=\"dataframe\">\n",
              "  <thead>\n",
              "    <tr style=\"text-align: right;\">\n",
              "      <th></th>\n",
              "      <th>general_firstup</th>\n",
              "      <th>biggenre</th>\n",
              "      <th>genre</th>\n",
              "      <th>novel_type</th>\n",
              "      <th>end</th>\n",
              "      <th>isstop</th>\n",
              "      <th>isr15</th>\n",
              "      <th>isbl</th>\n",
              "      <th>isgl</th>\n",
              "      <th>iszankoku</th>\n",
              "      <th>istensei</th>\n",
              "      <th>istenni</th>\n",
              "      <th>fav_novel_cnt_bin</th>\n",
              "    </tr>\n",
              "  </thead>\n",
              "  <tbody>\n",
              "    <tr>\n",
              "      <th>0</th>\n",
              "      <td>5306</td>\n",
              "      <td>4</td>\n",
              "      <td>402</td>\n",
              "      <td>0</td>\n",
              "      <td>0</td>\n",
              "      <td>0</td>\n",
              "      <td>0</td>\n",
              "      <td>0</td>\n",
              "      <td>0</td>\n",
              "      <td>0</td>\n",
              "      <td>0</td>\n",
              "      <td>0</td>\n",
              "      <td>1.0</td>\n",
              "    </tr>\n",
              "    <tr>\n",
              "      <th>1</th>\n",
              "      <td>5285</td>\n",
              "      <td>4</td>\n",
              "      <td>401</td>\n",
              "      <td>0</td>\n",
              "      <td>0</td>\n",
              "      <td>0</td>\n",
              "      <td>0</td>\n",
              "      <td>0</td>\n",
              "      <td>0</td>\n",
              "      <td>0</td>\n",
              "      <td>0</td>\n",
              "      <td>0</td>\n",
              "      <td>2.0</td>\n",
              "    </tr>\n",
              "    <tr>\n",
              "      <th>2</th>\n",
              "      <td>5163</td>\n",
              "      <td>4</td>\n",
              "      <td>403</td>\n",
              "      <td>0</td>\n",
              "      <td>0</td>\n",
              "      <td>0</td>\n",
              "      <td>0</td>\n",
              "      <td>0</td>\n",
              "      <td>0</td>\n",
              "      <td>0</td>\n",
              "      <td>0</td>\n",
              "      <td>0</td>\n",
              "      <td>3.0</td>\n",
              "    </tr>\n",
              "    <tr>\n",
              "      <th>3</th>\n",
              "      <td>5148</td>\n",
              "      <td>4</td>\n",
              "      <td>402</td>\n",
              "      <td>0</td>\n",
              "      <td>0</td>\n",
              "      <td>0</td>\n",
              "      <td>0</td>\n",
              "      <td>0</td>\n",
              "      <td>0</td>\n",
              "      <td>0</td>\n",
              "      <td>0</td>\n",
              "      <td>0</td>\n",
              "      <td>1.0</td>\n",
              "    </tr>\n",
              "    <tr>\n",
              "      <th>4</th>\n",
              "      <td>5137</td>\n",
              "      <td>4</td>\n",
              "      <td>401</td>\n",
              "      <td>0</td>\n",
              "      <td>0</td>\n",
              "      <td>0</td>\n",
              "      <td>0</td>\n",
              "      <td>0</td>\n",
              "      <td>0</td>\n",
              "      <td>0</td>\n",
              "      <td>0</td>\n",
              "      <td>0</td>\n",
              "      <td>1.0</td>\n",
              "    </tr>\n",
              "    <tr>\n",
              "      <th>...</th>\n",
              "      <td>...</td>\n",
              "      <td>...</td>\n",
              "      <td>...</td>\n",
              "      <td>...</td>\n",
              "      <td>...</td>\n",
              "      <td>...</td>\n",
              "      <td>...</td>\n",
              "      <td>...</td>\n",
              "      <td>...</td>\n",
              "      <td>...</td>\n",
              "      <td>...</td>\n",
              "      <td>...</td>\n",
              "      <td>...</td>\n",
              "    </tr>\n",
              "    <tr>\n",
              "      <th>39995</th>\n",
              "      <td>59</td>\n",
              "      <td>99</td>\n",
              "      <td>9903</td>\n",
              "      <td>1</td>\n",
              "      <td>0</td>\n",
              "      <td>0</td>\n",
              "      <td>0</td>\n",
              "      <td>0</td>\n",
              "      <td>0</td>\n",
              "      <td>0</td>\n",
              "      <td>0</td>\n",
              "      <td>0</td>\n",
              "      <td>2.0</td>\n",
              "    </tr>\n",
              "    <tr>\n",
              "      <th>39996</th>\n",
              "      <td>59</td>\n",
              "      <td>1</td>\n",
              "      <td>102</td>\n",
              "      <td>1</td>\n",
              "      <td>0</td>\n",
              "      <td>0</td>\n",
              "      <td>0</td>\n",
              "      <td>0</td>\n",
              "      <td>0</td>\n",
              "      <td>0</td>\n",
              "      <td>0</td>\n",
              "      <td>0</td>\n",
              "      <td>0.0</td>\n",
              "    </tr>\n",
              "    <tr>\n",
              "      <th>39997</th>\n",
              "      <td>59</td>\n",
              "      <td>3</td>\n",
              "      <td>307</td>\n",
              "      <td>1</td>\n",
              "      <td>0</td>\n",
              "      <td>0</td>\n",
              "      <td>0</td>\n",
              "      <td>0</td>\n",
              "      <td>0</td>\n",
              "      <td>0</td>\n",
              "      <td>0</td>\n",
              "      <td>0</td>\n",
              "      <td>0.0</td>\n",
              "    </tr>\n",
              "    <tr>\n",
              "      <th>39998</th>\n",
              "      <td>59</td>\n",
              "      <td>2</td>\n",
              "      <td>201</td>\n",
              "      <td>1</td>\n",
              "      <td>0</td>\n",
              "      <td>0</td>\n",
              "      <td>0</td>\n",
              "      <td>0</td>\n",
              "      <td>0</td>\n",
              "      <td>0</td>\n",
              "      <td>0</td>\n",
              "      <td>0</td>\n",
              "      <td>2.0</td>\n",
              "    </tr>\n",
              "    <tr>\n",
              "      <th>39999</th>\n",
              "      <td>59</td>\n",
              "      <td>3</td>\n",
              "      <td>302</td>\n",
              "      <td>1</td>\n",
              "      <td>0</td>\n",
              "      <td>0</td>\n",
              "      <td>0</td>\n",
              "      <td>0</td>\n",
              "      <td>0</td>\n",
              "      <td>0</td>\n",
              "      <td>0</td>\n",
              "      <td>0</td>\n",
              "      <td>0.0</td>\n",
              "    </tr>\n",
              "  </tbody>\n",
              "</table>\n",
              "<p>40000 rows × 13 columns</p>\n",
              "</div>"
            ],
            "text/plain": [
              "       general_firstup  biggenre  genre  novel_type  end  isstop  isr15  isbl  \\\n",
              "0                 5306         4    402           0    0       0      0     0   \n",
              "1                 5285         4    401           0    0       0      0     0   \n",
              "2                 5163         4    403           0    0       0      0     0   \n",
              "3                 5148         4    402           0    0       0      0     0   \n",
              "4                 5137         4    401           0    0       0      0     0   \n",
              "...                ...       ...    ...         ...  ...     ...    ...   ...   \n",
              "39995               59        99   9903           1    0       0      0     0   \n",
              "39996               59         1    102           1    0       0      0     0   \n",
              "39997               59         3    307           1    0       0      0     0   \n",
              "39998               59         2    201           1    0       0      0     0   \n",
              "39999               59         3    302           1    0       0      0     0   \n",
              "\n",
              "       isgl  iszankoku  istensei  istenni  fav_novel_cnt_bin  \n",
              "0         0          0         0        0                1.0  \n",
              "1         0          0         0        0                2.0  \n",
              "2         0          0         0        0                3.0  \n",
              "3         0          0         0        0                1.0  \n",
              "4         0          0         0        0                1.0  \n",
              "...     ...        ...       ...      ...                ...  \n",
              "39995     0          0         0        0                2.0  \n",
              "39996     0          0         0        0                0.0  \n",
              "39997     0          0         0        0                0.0  \n",
              "39998     0          0         0        0                2.0  \n",
              "39999     0          0         0        0                0.0  \n",
              "\n",
              "[40000 rows x 13 columns]"
            ]
          },
          "metadata": {},
          "execution_count": 6
        }
      ],
      "metadata": {
        "colab": {
          "base_uri": "https://localhost:8080/",
          "height": 419
        },
        "id": "bNYF3ZWvZHqP",
        "outputId": "0a16589b-4437-4ea1-8597-8b0fa5796122"
      }
    },
    {
      "cell_type": "markdown",
      "source": [
        "### 訓練データと答えに分割"
      ],
      "metadata": {
        "id": "ArdCYmj8b3d9"
      }
    },
    {
      "cell_type": "code",
      "execution_count": null,
      "source": [
        "x_train = train.drop('fav_novel_cnt_bin', axis=1)#訓練データ\r\n",
        "y_train = train['fav_novel_cnt_bin']#訓練データの答え\r\n",
        "x_test = test#テストデータ\r\n",
        "\r\n",
        "x_train = train[:35000].drop('fav_novel_cnt_bin', axis=1)\r\n",
        "y_train = train[:35000]['fav_novel_cnt_bin']\r\n",
        "x_test = train[35000:].drop('fav_novel_cnt_bin', axis=1)\r\n",
        "y_test = train[35000:]['fav_novel_cnt_bin']\r\n",
        "\r\n",
        "print(len(x_train))\r\n",
        "print(len(x_test))"
      ],
      "outputs": [
        {
          "output_type": "stream",
          "name": "stdout",
          "text": [
            "35000\n",
            "5000\n"
          ]
        }
      ],
      "metadata": {
        "colab": {
          "base_uri": "https://localhost:8080/"
        },
        "id": "sbZbTgnFbzlD",
        "outputId": "77195c3d-d96c-4af1-b5f2-8df935278860"
      }
    },
    {
      "cell_type": "markdown",
      "source": [
        "## 勾配ブースティング\n"
      ],
      "metadata": {
        "id": "Doe6QIWonw8A"
      }
    },
    {
      "cell_type": "code",
      "execution_count": null,
      "source": [
        "#勾配ブースティング\r\n",
        "from sklearn.model_selection import train_test_split\r\n",
        "\r\n",
        "x_train, x_valid, y_train, y_valid = train_test_split(x_train, y_train, test_size=0.3, random_state=0, stratify=y_train)\r\n",
        "categorical_features = ['biggenre', 'genre']\r\n",
        "\r\n",
        "import lightgbm as lgb\r\n",
        "lgb_train = lgb.Dataset(x_train, y_train, categorical_feature=categorical_features)\r\n",
        "lgb_eval = lgb.Dataset(x_valid, y_valid, categorical_feature=categorical_features)\r\n",
        "\r\n",
        "params = {\r\n",
        "    'objective': 'binary'\r\n",
        "}\r\n",
        "\r\n",
        "model = lgb.train(params,\r\n",
        "                  lgb_train,\r\n",
        "                  valid_sets=[lgb_train, lgb_eval],\r\n",
        "                  verbose_eval=10,\r\n",
        "                  num_boost_round=1000,\r\n",
        "                  early_stopping_rounds=10\r\n",
        "                  )\r\n",
        "pred = model.predict(x_test, num_iteration=model.best_iteration)"
      ],
      "outputs": [
        {
          "output_type": "stream",
          "name": "stderr",
          "text": [
            "C:\\Users\\ngnls\\AppData\\Local\\Programs\\Python\\Python39\\lib\\site-packages\\lightgbm\\engine.py:181: UserWarning: 'early_stopping_rounds' argument is deprecated and will be removed in a future release of LightGBM. Pass 'early_stopping()' callback via 'callbacks' argument instead.\n",
            "  _log_warning(\"'early_stopping_rounds' argument is deprecated and will be removed in a future release of LightGBM. \"\n",
            "C:\\Users\\ngnls\\AppData\\Local\\Programs\\Python\\Python39\\lib\\site-packages\\lightgbm\\basic.py:2065: UserWarning: Using categorical_feature in Dataset.\n",
            "  _log_warning('Using categorical_feature in Dataset.')\n",
            "C:\\Users\\ngnls\\AppData\\Local\\Programs\\Python\\Python39\\lib\\site-packages\\lightgbm\\engine.py:240: UserWarning: 'verbose_eval' argument is deprecated and will be removed in a future release of LightGBM. Pass 'log_evaluation()' callback via 'callbacks' argument instead.\n",
            "  _log_warning(\"'verbose_eval' argument is deprecated and will be removed in a future release of LightGBM. \"\n",
            "C:\\Users\\ngnls\\AppData\\Local\\Programs\\Python\\Python39\\lib\\site-packages\\lightgbm\\basic.py:1780: UserWarning: Overriding the parameters from Reference Dataset.\n",
            "  _log_warning('Overriding the parameters from Reference Dataset.')\n",
            "C:\\Users\\ngnls\\AppData\\Local\\Programs\\Python\\Python39\\lib\\site-packages\\lightgbm\\basic.py:1513: UserWarning: categorical_column in param dict is overridden.\n",
            "  _log_warning(f'{cat_alias} in param dict is overridden.')\n"
          ]
        },
        {
          "output_type": "stream",
          "name": "stdout",
          "text": [
            "[LightGBM] [Info] Number of positive: 13196, number of negative: 11304\n",
            "[LightGBM] [Warning] Auto-choosing row-wise multi-threading, the overhead of testing was 0.001952 seconds.\n",
            "You can set `force_row_wise=true` to remove the overhead.\n",
            "And if memory is not enough, you can set `force_col_wise=true`.\n",
            "[LightGBM] [Info] Total Bins 297\n",
            "[LightGBM] [Info] Number of data points in the train set: 24500, number of used features: 10\n",
            "[LightGBM] [Info] [binary:BoostFromScore]: pavg=0.538612 -> initscore=0.154757\n",
            "[LightGBM] [Info] Start training from score 0.154757\n",
            "Training until validation scores don't improve for 10 rounds\n",
            "[10]\ttraining's binary_logloss: 0.56765\tvalid_1's binary_logloss: 0.575766\n",
            "[20]\ttraining's binary_logloss: 0.542886\tvalid_1's binary_logloss: 0.555961\n",
            "[30]\ttraining's binary_logloss: 0.534779\tvalid_1's binary_logloss: 0.551555\n",
            "[40]\ttraining's binary_logloss: 0.53\tvalid_1's binary_logloss: 0.550059\n",
            "[50]\ttraining's binary_logloss: 0.526245\tvalid_1's binary_logloss: 0.549549\n",
            "[60]\ttraining's binary_logloss: 0.523085\tvalid_1's binary_logloss: 0.5493\n",
            "[70]\ttraining's binary_logloss: 0.520263\tvalid_1's binary_logloss: 0.549053\n",
            "[80]\ttraining's binary_logloss: 0.517715\tvalid_1's binary_logloss: 0.548962\n",
            "Early stopping, best iteration is:\n",
            "[79]\ttraining's binary_logloss: 0.517982\tvalid_1's binary_logloss: 0.548942\n"
          ]
        }
      ],
      "metadata": {
        "colab": {
          "base_uri": "https://localhost:8080/"
        },
        "id": "A_6lUS2Vnkqt",
        "outputId": "2924fdd8-52a3-4340-cf09-5e0d042c7fe2"
      }
    },
    {
      "cell_type": "code",
      "execution_count": 35,
      "source": [
        "\r\n"
      ],
      "outputs": [
        {
          "output_type": "stream",
          "name": "stdout",
          "text": [
            "5001\n",
            "35000                                                              0.0\n",
            "35001                                                              2.0\n",
            "35002                                                              0.0\n",
            "35003                                                              0.0\n",
            "35004                                                              1.0\n",
            "                                           ...                        \n",
            "39996                                                              0.0\n",
            "39997                                                              0.0\n",
            "39998                                                              2.0\n",
            "39999                                                              0.0\n",
            "fav_novel_cnt_bin    [3.0, 4.0, 2.0, 2.0, 1.0, 2.0, 1.0, 2.0, 1.0, ...\n",
            "Name: fav_novel_cnt_bin, Length: 5001, dtype: object\n"
          ]
        },
        {
          "output_type": "error",
          "ename": "ValueError",
          "evalue": "Classification metrics can't handle a mix of multiclass and continuous targets",
          "traceback": [
            "\u001b[1;31m---------------------------------------------------------------------------\u001b[0m",
            "\u001b[1;31mValueError\u001b[0m                                Traceback (most recent call last)",
            "\u001b[1;32m<ipython-input-35-dd52aada05b9>\u001b[0m in \u001b[0;36m<module>\u001b[1;34m\u001b[0m\n\u001b[0;32m     13\u001b[0m \u001b[1;31m#正答率の確認\u001b[0m\u001b[1;33m\u001b[0m\u001b[1;33m\u001b[0m\u001b[1;33m\u001b[0m\u001b[0m\n\u001b[0;32m     14\u001b[0m \u001b[1;32mfrom\u001b[0m \u001b[0msklearn\u001b[0m\u001b[1;33m.\u001b[0m\u001b[0mmetrics\u001b[0m \u001b[1;32mimport\u001b[0m \u001b[0maccuracy_score\u001b[0m\u001b[1;33m\u001b[0m\u001b[1;33m\u001b[0m\u001b[0m\n\u001b[1;32m---> 15\u001b[1;33m \u001b[0mprint\u001b[0m\u001b[1;33m(\u001b[0m\u001b[1;34m'accuracy = '\u001b[0m\u001b[1;33m,\u001b[0m \u001b[0maccuracy_score\u001b[0m\u001b[1;33m(\u001b[0m\u001b[0my_true\u001b[0m\u001b[1;33m=\u001b[0m\u001b[0my_test\u001b[0m\u001b[1;33m,\u001b[0m \u001b[0my_pred\u001b[0m\u001b[1;33m=\u001b[0m\u001b[0mpred\u001b[0m\u001b[1;33m)\u001b[0m\u001b[1;33m)\u001b[0m\u001b[1;33m\u001b[0m\u001b[1;33m\u001b[0m\u001b[0m\n\u001b[0m",
            "\u001b[1;32m~\\AppData\\Local\\Programs\\Python\\Python39\\lib\\site-packages\\sklearn\\metrics\\_classification.py\u001b[0m in \u001b[0;36maccuracy_score\u001b[1;34m(y_true, y_pred, normalize, sample_weight)\u001b[0m\n\u001b[0;32m    203\u001b[0m \u001b[1;33m\u001b[0m\u001b[0m\n\u001b[0;32m    204\u001b[0m     \u001b[1;31m# Compute accuracy for each possible representation\u001b[0m\u001b[1;33m\u001b[0m\u001b[1;33m\u001b[0m\u001b[1;33m\u001b[0m\u001b[0m\n\u001b[1;32m--> 205\u001b[1;33m     \u001b[0my_type\u001b[0m\u001b[1;33m,\u001b[0m \u001b[0my_true\u001b[0m\u001b[1;33m,\u001b[0m \u001b[0my_pred\u001b[0m \u001b[1;33m=\u001b[0m \u001b[0m_check_targets\u001b[0m\u001b[1;33m(\u001b[0m\u001b[0my_true\u001b[0m\u001b[1;33m,\u001b[0m \u001b[0my_pred\u001b[0m\u001b[1;33m)\u001b[0m\u001b[1;33m\u001b[0m\u001b[1;33m\u001b[0m\u001b[0m\n\u001b[0m\u001b[0;32m    206\u001b[0m     \u001b[0mcheck_consistent_length\u001b[0m\u001b[1;33m(\u001b[0m\u001b[0my_true\u001b[0m\u001b[1;33m,\u001b[0m \u001b[0my_pred\u001b[0m\u001b[1;33m,\u001b[0m \u001b[0msample_weight\u001b[0m\u001b[1;33m)\u001b[0m\u001b[1;33m\u001b[0m\u001b[1;33m\u001b[0m\u001b[0m\n\u001b[0;32m    207\u001b[0m     \u001b[1;32mif\u001b[0m \u001b[0my_type\u001b[0m\u001b[1;33m.\u001b[0m\u001b[0mstartswith\u001b[0m\u001b[1;33m(\u001b[0m\u001b[1;34m\"multilabel\"\u001b[0m\u001b[1;33m)\u001b[0m\u001b[1;33m:\u001b[0m\u001b[1;33m\u001b[0m\u001b[1;33m\u001b[0m\u001b[0m\n",
            "\u001b[1;32m~\\AppData\\Local\\Programs\\Python\\Python39\\lib\\site-packages\\sklearn\\metrics\\_classification.py\u001b[0m in \u001b[0;36m_check_targets\u001b[1;34m(y_true, y_pred)\u001b[0m\n\u001b[0;32m     91\u001b[0m \u001b[1;33m\u001b[0m\u001b[0m\n\u001b[0;32m     92\u001b[0m     \u001b[1;32mif\u001b[0m \u001b[0mlen\u001b[0m\u001b[1;33m(\u001b[0m\u001b[0my_type\u001b[0m\u001b[1;33m)\u001b[0m \u001b[1;33m>\u001b[0m \u001b[1;36m1\u001b[0m\u001b[1;33m:\u001b[0m\u001b[1;33m\u001b[0m\u001b[1;33m\u001b[0m\u001b[0m\n\u001b[1;32m---> 93\u001b[1;33m         raise ValueError(\n\u001b[0m\u001b[0;32m     94\u001b[0m             \"Classification metrics can't handle a mix of {0} and {1} targets\".format(\n\u001b[0;32m     95\u001b[0m                 \u001b[0mtype_true\u001b[0m\u001b[1;33m,\u001b[0m \u001b[0mtype_pred\u001b[0m\u001b[1;33m\u001b[0m\u001b[1;33m\u001b[0m\u001b[0m\n",
            "\u001b[1;31mValueError\u001b[0m: Classification metrics can't handle a mix of multiclass and continuous targets"
          ]
        }
      ],
      "metadata": {
        "colab": {
          "base_uri": "https://localhost:8080/",
          "height": 425
        },
        "id": "cPhwGp0rixj5",
        "outputId": "fa623cad-8483-40a6-d5ea-dffa7224b5f6"
      }
    }
  ]
}