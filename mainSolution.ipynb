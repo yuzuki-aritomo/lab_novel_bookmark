{
  "cells": [
    {
      "cell_type": "markdown",
      "metadata": {
        "id": "9nuxWXypnXwN"
      },
      "source": [
        "## データとライブラリの読み込み"
      ]
    },
    {
      "cell_type": "code",
      "execution_count": 2,
      "metadata": {
        "colab": {
          "base_uri": "https://localhost:8080/"
        },
        "id": "qq5LWNaFOXEg",
        "outputId": "a2bad56b-7415-4bd7-cef4-5d0dfaee06cb"
      },
      "outputs": [],
      "source": [
        "import pandas as pd\n",
        "import pandas_profiling\n",
        "import numpy as np\n",
        "\n",
        "#google drive読み込み\n",
        "# from google.colab import drive, files\n",
        "# drive.mount('/content/drive')\n",
        "# dataPath = \"/content/drive/My Drive/01 Lab/novel_bookmark/datasets/\"\n",
        "# test = pd.read_csv(dataPath + 'test.csv')\n",
        "# train = pd.read_csv(dataPath +'train.csv')\n",
        "# sub = pd.read_csv(dataPath +'sample_submission.csv')\n",
        "\n",
        "#local 読み込み\n",
        "dataPath = './datasets/'\n",
        "titlePath = './data/titledata/'\n",
        "\n",
        "test = pd.read_csv(dataPath + 'test.csv')\n",
        "train = pd.read_csv(dataPath +'train.csv')\n",
        "sub = pd.read_csv(dataPath +'sample_submission.csv')"
      ]
    },
    {
      "cell_type": "markdown",
      "metadata": {
        "id": "BJFOVOhQn54z"
      },
      "source": [
        "## データの可視化、確認"
      ]
    },
    {
      "cell_type": "code",
      "execution_count": 12,
      "metadata": {
        "id": "Xz8LhvAgOuQE"
      },
      "outputs": [],
      "source": [
        "#データの可視化\n",
        "# !pip install pandas-profiling\n",
        "# !pip install --upgrade pandas_profiling\n",
        "# train.profile_report()"
      ]
    },
    {
      "cell_type": "code",
      "execution_count": 13,
      "metadata": {
        "colab": {
          "base_uri": "https://localhost:8080/",
          "height": 129
        },
        "id": "l6YC_g4pWEuT",
        "outputId": "e5492c2e-6fc7-4065-9a79-ccff31b387f0"
      },
      "outputs": [],
      "source": [
        "# df = train\n",
        "# print(len(df[train['fav_novel_cnt_bin']==4]))\n",
        "\n",
        "# sub = df[train['fav_novel_cnt_bin']==4]\n",
        "# sub.to_csv('pre_file.csv', index=False)\n",
        "# files.download('pre_file.csv')"
      ]
    },
    {
      "cell_type": "markdown",
      "metadata": {
        "id": "Ay7vCCjCZJku"
      },
      "source": [
        "## 特徴量エンジニアリング"
      ]
    },
    {
      "cell_type": "code",
      "execution_count": null,
      "metadata": {
        "colab": {
          "base_uri": "https://localhost:8080/",
          "height": 419
        },
        "id": "bNYF3ZWvZHqP",
        "outputId": "0a16589b-4437-4ea1-8597-8b0fa5796122"
      },
      "outputs": [],
      "source": [
        "test = pd.read_csv(dataPath + 'test.csv')\n",
        "train = pd.read_csv(dataPath +'train.csv')\n",
        "sub = pd.read_csv(dataPath +'sample_submission.csv')\n",
        "\n",
        "data = pd.concat([train, test], sort=False)#データの統合\n",
        "\n",
        "#必要のないカラムを削除\n",
        "#ncode:小説コード, writer, userid, pc_or_k:小説の投稿機種 \n",
        "delete_columns = ['ncode', 'writer', 'userid', 'pc_or_k']\n",
        "data.drop(delete_columns, axis=1, inplace=True)\n",
        "\n",
        "#novel_type (1, 2)を(0, 1)に変更\n",
        "data['novel_type'] = data['novel_type'].map({1: 0, 2: 1})\n",
        "\n",
        "#'general_firstup'(初回投稿日)を今日までの日数に変換\n",
        "import datetime\n",
        "def calc_diff_days(x):#return days(int)\n",
        "  y_m_d = x.split(\" \")[0]\n",
        "  y, m, d = map(int, y_m_d.split(\"-\"))\n",
        "  ymd = datetime.datetime(y, m, d)\n",
        "  diff = datetime.datetime.today() - ymd\n",
        "  return diff.days\n",
        "data['general_firstup'] = data['general_firstup'].map(calc_diff_days)\n",
        "\n",
        "#一時的にテキストデータを削除\n",
        "text_columns = ['title','story', 'keyword']\n",
        "data.drop(text_columns, axis=1, inplace=True)\n",
        "\n",
        "#titleデータをベクトルに変換したものを追加\n",
        "title_data = pd.read_csv(titlePath+'title_vec_learnedModel.csv', index_col=0)\n",
        "data = pd.merge(data, title_data, left_index=True, right_index=True)\n",
        "\n",
        "#dataをtest, trainに分割\n",
        "train = data[:len(train)]\n",
        "test = data[len(train):]\n",
        "\n",
        "train.to_csv('./tmp/tmp_train.csv')\n",
        "data.head()"
      ]
    },
    {
      "cell_type": "markdown",
      "metadata": {
        "id": "ArdCYmj8b3d9"
      },
      "source": [
        "### 訓練データと答えに分割"
      ]
    },
    {
      "cell_type": "code",
      "execution_count": 18,
      "metadata": {
        "colab": {
          "base_uri": "https://localhost:8080/"
        },
        "id": "sbZbTgnFbzlD",
        "outputId": "77195c3d-d96c-4af1-b5f2-8df935278860"
      },
      "outputs": [],
      "source": [
        "#一時的に欠損値を含むものを削除\n",
        "train = train.dropna(how='any')\n",
        "\n",
        "#data分割\n",
        "x_train = train.drop('fav_novel_cnt_bin', axis=1)#訓練データ\n",
        "y_train = train['fav_novel_cnt_bin']#訓練データの答え\n",
        "\n",
        "from sklearn.model_selection import train_test_split\n",
        "x_train, x_valid, y_train, y_valid = train_test_split(x_train, y_train, test_size=0.3, random_state=0, stratify=y_train)"
      ]
    },
    {
      "cell_type": "markdown",
      "metadata": {
        "id": "Doe6QIWonw8A"
      },
      "source": [
        "## 勾配ブースティング\n"
      ]
    },
    {
      "cell_type": "code",
      "execution_count": 19,
      "metadata": {
        "colab": {
          "base_uri": "https://localhost:8080/"
        },
        "id": "A_6lUS2Vnkqt",
        "outputId": "2924fdd8-52a3-4340-cf09-5e0d042c7fe2"
      },
      "outputs": [
        {
          "name": "stderr",
          "output_type": "stream",
          "text": [
            "C:\\Users\\ngnls\\AppData\\Local\\Programs\\Python\\Python39\\lib\\site-packages\\lightgbm\\engine.py:181: UserWarning: 'early_stopping_rounds' argument is deprecated and will be removed in a future release of LightGBM. Pass 'early_stopping()' callback via 'callbacks' argument instead.\n",
            "  _log_warning(\"'early_stopping_rounds' argument is deprecated and will be removed in a future release of LightGBM. \"\n",
            "C:\\Users\\ngnls\\AppData\\Local\\Programs\\Python\\Python39\\lib\\site-packages\\lightgbm\\basic.py:2065: UserWarning: Using categorical_feature in Dataset.\n",
            "  _log_warning('Using categorical_feature in Dataset.')\n",
            "C:\\Users\\ngnls\\AppData\\Local\\Programs\\Python\\Python39\\lib\\site-packages\\lightgbm\\engine.py:240: UserWarning: 'verbose_eval' argument is deprecated and will be removed in a future release of LightGBM. Pass 'log_evaluation()' callback via 'callbacks' argument instead.\n",
            "  _log_warning(\"'verbose_eval' argument is deprecated and will be removed in a future release of LightGBM. \"\n"
          ]
        },
        {
          "name": "stdout",
          "output_type": "stream",
          "text": [
            "[LightGBM] [Warning] Met categorical feature which contains sparse values. Consider renumbering to consecutive integers started from zero\n",
            "[LightGBM] [Info] Number of positive: 11080, number of negative: 9045\n",
            "[LightGBM] [Warning] Auto-choosing col-wise multi-threading, the overhead of testing was 0.033178 seconds.\n",
            "You can set `force_col_wise=true` to remove the overhead.\n",
            "[LightGBM] [Info] Total Bins 51297\n",
            "[LightGBM] [Info] Number of data points in the train set: 20125, number of used features: 210\n",
            "[LightGBM] [Info] [binary:BoostFromScore]: pavg=0.550559 -> initscore=0.202930\n",
            "[LightGBM] [Info] Start training from score 0.202930\n",
            "Training until validation scores don't improve for 10 rounds\n"
          ]
        },
        {
          "name": "stderr",
          "output_type": "stream",
          "text": [
            "C:\\Users\\ngnls\\AppData\\Local\\Programs\\Python\\Python39\\lib\\site-packages\\lightgbm\\basic.py:1780: UserWarning: Overriding the parameters from Reference Dataset.\n",
            "  _log_warning('Overriding the parameters from Reference Dataset.')\n",
            "C:\\Users\\ngnls\\AppData\\Local\\Programs\\Python\\Python39\\lib\\site-packages\\lightgbm\\basic.py:1513: UserWarning: categorical_column in param dict is overridden.\n",
            "  _log_warning(f'{cat_alias} in param dict is overridden.')\n"
          ]
        },
        {
          "name": "stdout",
          "output_type": "stream",
          "text": [
            "[10]\ttraining's binary_logloss: 0.555533\tvalid_1's binary_logloss: 0.568331\n",
            "[20]\ttraining's binary_logloss: 0.516254\tvalid_1's binary_logloss: 0.543378\n",
            "[30]\ttraining's binary_logloss: 0.491135\tvalid_1's binary_logloss: 0.534317\n",
            "[40]\ttraining's binary_logloss: 0.471817\tvalid_1's binary_logloss: 0.52932\n",
            "[50]\ttraining's binary_logloss: 0.454242\tvalid_1's binary_logloss: 0.527133\n",
            "[60]\ttraining's binary_logloss: 0.438676\tvalid_1's binary_logloss: 0.526636\n",
            "[70]\ttraining's binary_logloss: 0.424587\tvalid_1's binary_logloss: 0.525682\n",
            "[80]\ttraining's binary_logloss: 0.410665\tvalid_1's binary_logloss: 0.525257\n",
            "[90]\ttraining's binary_logloss: 0.39827\tvalid_1's binary_logloss: 0.525917\n",
            "Early stopping, best iteration is:\n",
            "[80]\ttraining's binary_logloss: 0.410665\tvalid_1's binary_logloss: 0.525257\n"
          ]
        }
      ],
      "source": [
        "import lightgbm as lgb\n",
        "\n",
        "categorical_features = ['biggenre', 'genre']\n",
        "lgb_train = lgb.Dataset(x_train, y_train, categorical_feature=categorical_features)\n",
        "lgb_eval = lgb.Dataset(x_valid, y_valid, categorical_feature=categorical_features)\n",
        "\n",
        "params = {\n",
        "    'objective': 'binary'\n",
        "}\n",
        "\n",
        "model = lgb.train(\n",
        "    params,\n",
        "    lgb_train,\n",
        "    valid_sets=[lgb_train, lgb_eval],\n",
        "    verbose_eval=10,\n",
        "    num_boost_round=1000,\n",
        "    early_stopping_rounds=10\n",
        ")\n",
        "pred = model.predict(x_test, num_iteration=model.best_iteration)"
      ]
    },
    {
      "cell_type": "code",
      "execution_count": 20,
      "metadata": {
        "colab": {
          "base_uri": "https://localhost:8080/",
          "height": 425
        },
        "id": "cPhwGp0rixj5",
        "outputId": "fa623cad-8483-40a6-d5ea-dffa7224b5f6"
      },
      "outputs": [
        {
          "name": "stdout",
          "output_type": "stream",
          "text": [
            "accuracy =  0.2064\n"
          ]
        }
      ],
      "source": [
        "\n",
        "pred_to_fav = lambda x: x*10//2\n",
        "\n",
        "# y_pred = y_test.copy()\n",
        "# y_pred['fav_novel_cnt_bin'] = list(map(pred_to_fav, pred))\n",
        "# y_pred.drop(index='fav_novel_cnt_bin', axis=0)\n",
        "# y_pred['fav_novel_cnt_bin']=pd.to_numeric(y_pred['fav_novel_cnt_bin'])\n",
        "\n",
        "y_pred = pred_to_fav(pred)\n",
        "y_test_array = y_test.values\n",
        "\n",
        "\n",
        "#正答率の確認\n",
        "from sklearn.metrics import accuracy_score\n",
        "print('accuracy = ', accuracy_score(y_true=y_test_array, y_pred=y_pred))\n"
      ]
    }
  ],
  "metadata": {
    "colab": {
      "collapsed_sections": [
        "BJFOVOhQn54z"
      ],
      "name": "mainSution.ipynb",
      "provenance": []
    },
    "interpreter": {
      "hash": "6f371c1edc13f10b1623f8473fa71877fe279074a94f999a2097c9dc15f19259"
    },
    "kernelspec": {
      "display_name": "Python 3.9.2 64-bit",
      "name": "python3"
    },
    "language_info": {
      "codemirror_mode": {
        "name": "ipython",
        "version": 3
      },
      "file_extension": ".py",
      "mimetype": "text/x-python",
      "name": "python",
      "nbconvert_exporter": "python",
      "pygments_lexer": "ipython3",
      "version": "3.9.2"
    }
  },
  "nbformat": 4,
  "nbformat_minor": 2
}
