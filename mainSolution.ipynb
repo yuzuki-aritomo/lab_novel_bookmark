{
  "cells": [
    {
      "cell_type": "markdown",
      "metadata": {
        "id": "9nuxWXypnXwN"
      },
      "source": [
        "## データとライブラリの読み込み"
      ]
    },
    {
      "cell_type": "code",
      "execution_count": 5,
      "metadata": {
        "colab": {
          "base_uri": "https://localhost:8080/"
        },
        "id": "qq5LWNaFOXEg",
        "outputId": "a2bad56b-7415-4bd7-cef4-5d0dfaee06cb"
      },
      "outputs": [],
      "source": [
        "import pandas as pd\n",
        "import pandas_profiling\n",
        "import numpy as np\n",
        "\n",
        "#google drive読み込み\n",
        "# from google.colab import drive, files\n",
        "# drive.mount('/content/drive')\n",
        "# dataPath = \"/content/drive/My Drive/01 Lab/novel_bookmark/datasets/\"\n",
        "# test = pd.read_csv(dataPath + 'test.csv')\n",
        "# train = pd.read_csv(dataPath +'train.csv')\n",
        "# sub = pd.read_csv(dataPath +'sample_submission.csv')\n",
        "\n",
        "#local 読み込み\n",
        "dataPath = './datasets/'\n",
        "titlePath = './data/titledata/'\n",
        "keyPath = './data/keyworddata/'\n",
        "storyPath = './data/storydata/'\n",
        "allPath = './data/all/'\n",
        "\n",
        "test = pd.read_csv(dataPath + 'test.csv')\n",
        "train = pd.read_csv(dataPath +'train.csv')\n",
        "sub = pd.read_csv(dataPath +'sample_submission.csv')"
      ]
    },
    {
      "cell_type": "markdown",
      "metadata": {
        "id": "Ay7vCCjCZJku"
      },
      "source": [
        "## 特徴量エンジニアリング"
      ]
    },
    {
      "cell_type": "code",
      "execution_count": 22,
      "metadata": {
        "colab": {
          "base_uri": "https://localhost:8080/",
          "height": 419
        },
        "id": "bNYF3ZWvZHqP",
        "outputId": "0a16589b-4437-4ea1-8597-8b0fa5796122"
      },
      "outputs": [
        {
          "name": "stdout",
          "output_type": "stream",
          "text": [
            "len(data): 48522\n",
            "len(data): 48522\n"
          ]
        }
      ],
      "source": [
        "test = pd.read_csv(dataPath + 'test.csv')\n",
        "train = pd.read_csv(dataPath +'train.csv')\n",
        "sub = pd.read_csv(dataPath +'sample_submission.csv')\n",
        "\n",
        "data = pd.concat([train, test], sort=False)#データの統合\n",
        "data = data.reset_index()#indexが重複するためindexを振り直し\n",
        "\n",
        "print(\"len(data):\", len(data))\n",
        "\n",
        "#必要のないカラムを削除\n",
        "#ncode:小説コード, writer, userid, pc_or_k:小説の投稿機種\n",
        "delete_columns = ['ncode', 'writer', 'userid', 'pc_or_k']\n",
        "data.drop(delete_columns, axis=1, inplace=True)\n",
        "\n",
        "#novel_type (1, 2)を(0, 1)に変更\n",
        "data['novel_type'] = data['novel_type'].map({1: 0, 2: 1})\n",
        "\n",
        "#'general_firstup'(初回投稿日)を今日までの日数に変換\n",
        "import datetime\n",
        "def calc_diff_days(x):#return days(int)\n",
        "  y_m_d = x.split(\" \")[0]\n",
        "  y, m, d = map(int, y_m_d.split(\"-\"))\n",
        "  ymd = datetime.datetime(y, m, d)\n",
        "  diff = datetime.datetime.today() - ymd\n",
        "  return diff.days\n",
        "data['general_firstup'] = data['general_firstup'].map(calc_diff_days)\n",
        "\n",
        "#テキストデータを削除\n",
        "text_columns = ['title','story', 'keyword']\n",
        "data.drop(text_columns, axis=1, inplace=True)\n",
        "\n",
        "#titleデータをベクトルに変換したものを追加\n",
        "# title_data = pd.read_csv(titlePath+'title_vec_learnedModel.csv', index_col=0)#学習済みモデル\n",
        "# title_data = pd.read_csv(titlePath+'title_vec_originalLearned_300.csv', index_col=0)#自作辞書モデル\n",
        "title_data = pd.read_csv(allPath+'title_vec_originalLearned_200.csv', index_col=0)#自作辞書モデル\n",
        "data = pd.merge(data, title_data, left_index=True, right_index=True, sort=False, how='inner')\n",
        "\n",
        "#keywordデータをベクトルに変換したものを追加\n",
        "# key_data = pd.read_csv(keyPath+'key_vec_learnedModel.csv', index_col=0)#学習済みモデル\n",
        "# key_data = pd.read_csv(keyPath+'key_vec_originalModel.csv', index_col=0)#自作辞書モデル\n",
        "key_data = pd.read_csv(allPath+'key_vec_originalLearned_200.csv', index_col=0)#自作辞書モデル\n",
        "data = pd.merge(data, key_data, left_index=True, right_index=True, sort=False, how='inner')\n",
        "\n",
        "#storyデータをベクトルに変換したものを追加\n",
        "# story_data = pd.read_csv(storyPath+'vec_learnedModel.csv', index_col=0)#学習済みモデル\n",
        "story_data = pd.read_csv(allPath+'story_vec_originalLearned_200.csv', index_col=0)#自作辞書モデル\n",
        "data = pd.merge(data, story_data, left_index=True, right_index=True, sort=False, how='inner')\n",
        "\n",
        "#dataをtest, trainに分割\n",
        "train = data[:len(train)]\n",
        "test = data[len(train):]\n",
        "\n",
        "print(\"len(data):\", len(data))\n"
      ]
    },
    {
      "cell_type": "markdown",
      "metadata": {},
      "source": [
        "### アンダーサンプリング"
      ]
    },
    {
      "cell_type": "code",
      "execution_count": 41,
      "metadata": {},
      "outputs": [
        {
          "name": "stdout",
          "output_type": "stream",
          "text": [
            "4070\n"
          ]
        }
      ],
      "source": [
        "#一時的に欠損値を含むものを削除\n",
        "# train = train.dropna(how='any')\n",
        "\n",
        "train0 = train[train['fav_novel_cnt_bin']==0]\n",
        "train1 = train[train['fav_novel_cnt_bin']==1]\n",
        "train2 = train[train['fav_novel_cnt_bin']==2]\n",
        "train3 = train[train['fav_novel_cnt_bin']==3]\n",
        "train4 = train[train['fav_novel_cnt_bin']==4]\n",
        "\n",
        "\n",
        "#todo train list 等に突っ込んでアンダーサンプリングでloggingする\n",
        "num = len(train4)\n",
        "train = pd.concat([train0[:num], train1[:num], train2[:num], train3[:num], train4[:num]], sort=False)#データの統合\n",
        "print(len(train))"
      ]
    },
    {
      "cell_type": "markdown",
      "metadata": {},
      "source": [
        "### オーバーサンプリング"
      ]
    },
    {
      "cell_type": "markdown",
      "metadata": {},
      "source": [
        "#### SMOTE"
      ]
    },
    {
      "cell_type": "code",
      "execution_count": 23,
      "metadata": {},
      "outputs": [],
      "source": [
        "#data分割\n",
        "train = train.dropna(how='any')\n",
        "x_train = train.drop('fav_novel_cnt_bin', axis=1)#訓練データ\n",
        "y_train = train['fav_novel_cnt_bin']#訓練データの答え\n",
        "\n",
        "from imblearn.over_sampling import SMOTE\n",
        "sm = SMOTE()\n",
        "x_resampled, y_resampled = sm.fit_resample(x_train, y_train)\n",
        "x_train = x_resampled\n",
        "y_train = y_resampled"
      ]
    },
    {
      "cell_type": "code",
      "execution_count": 8,
      "metadata": {},
      "outputs": [],
      "source": [
        "train0 = train[train['fav_novel_cnt_bin']==0]\n",
        "train1 = train[train['fav_novel_cnt_bin']==1]\n",
        "train2 = train[train['fav_novel_cnt_bin']==2]\n",
        "train3 = train[train['fav_novel_cnt_bin']==3]\n",
        "train4 = train[train['fav_novel_cnt_bin']==4]\n",
        "\n",
        "num_train0 = len(train0)\n",
        "train = pd.concat(\n",
        "  [\n",
        "    train0.sample(n=num_train0, replace=True),\n",
        "    train1.sample(n=num_train0, replace=True),\n",
        "    train2.sample(n=num_train0, replace=True),\n",
        "    train3.sample(n=num_train0, replace=True),\n",
        "    train4.sample(n=num_train0, replace=True),\n",
        "  ],\n",
        "  sort=False\n",
        ")"
      ]
    },
    {
      "cell_type": "markdown",
      "metadata": {
        "id": "ArdCYmj8b3d9"
      },
      "source": [
        "### 訓練データと答えに分割"
      ]
    },
    {
      "cell_type": "code",
      "execution_count": 22,
      "metadata": {
        "colab": {
          "base_uri": "https://localhost:8080/"
        },
        "id": "sbZbTgnFbzlD",
        "outputId": "77195c3d-d96c-4af1-b5f2-8df935278860"
      },
      "outputs": [],
      "source": [
        "#一時的に欠損値を含むものを削除\n",
        "# train = train.dropna(how='any')\n",
        "\n",
        "#data分割\n",
        "x_train = train.drop('fav_novel_cnt_bin', axis=1)#訓練データ\n",
        "y_train = train['fav_novel_cnt_bin']#訓練データの答え\n",
        "\n",
        "from sklearn.model_selection import train_test_split\n",
        "x_train, x_valid, y_train, y_valid = train_test_split(x_train, y_train, test_size=0.3, random_state=0, stratify=y_train)"
      ]
    },
    {
      "cell_type": "markdown",
      "metadata": {},
      "source": [
        "### 訓練データ"
      ]
    },
    {
      "cell_type": "code",
      "execution_count": 9,
      "metadata": {},
      "outputs": [],
      "source": [
        "#一時的に欠損値を含むものを削除\n",
        "# train = train.dropna(how='any')\n",
        "\n",
        "#data分割\n",
        "x_train = train.drop('fav_novel_cnt_bin', axis=1)#訓練データ\n",
        "y_train = train['fav_novel_cnt_bin']#訓練データの答え"
      ]
    },
    {
      "cell_type": "markdown",
      "metadata": {
        "id": "Doe6QIWonw8A"
      },
      "source": [
        "## 機械学習\n"
      ]
    },
    {
      "cell_type": "markdown",
      "metadata": {},
      "source": [
        "### 勾配ブースティング"
      ]
    },
    {
      "cell_type": "code",
      "execution_count": null,
      "metadata": {},
      "outputs": [],
      "source": [
        "import lightgbm as lgb\n",
        "\n",
        "# モデルの学習\n",
        "model = lgb.LGBMClassifier() # モデルのインスタンスの作成\n",
        "model.fit(x_train, y_train) # モデルの学習\n",
        "\n",
        "# テストデータの予測クラス (予測クラス(0 or 1 or 2)を返す)\n",
        "y_pred = model.predict(x_valid)\n",
        "\n",
        "# テストデータのクラス予測確率 (各クラスの予測確率 [クラス0の予測確率,クラス1の予測確率,クラス2の予測確率] を返す)\n",
        "y_pred_prob = model.predict_proba(x_valid)"
      ]
    },
    {
      "cell_type": "markdown",
      "metadata": {},
      "source": [
        "### ランダムフォレスト"
      ]
    },
    {
      "cell_type": "code",
      "execution_count": 24,
      "metadata": {},
      "outputs": [
        {
          "data": {
            "text/plain": [
              "RandomForestClassifier()"
            ]
          },
          "execution_count": 24,
          "metadata": {},
          "output_type": "execute_result"
        }
      ],
      "source": [
        "from sklearn.ensemble import RandomForestClassifier\n",
        "\n",
        "randomforest = RandomForestClassifier()\n",
        "randomforest.fit(x_train, y_train)\n",
        "# y_pred = randomforest.predict(x_valid)\n",
        "# y_pred_prob = randomforest.predict_proba(x_valid)"
      ]
    },
    {
      "cell_type": "markdown",
      "metadata": {},
      "source": [
        "### ロジスティック回帰"
      ]
    },
    {
      "cell_type": "code",
      "execution_count": 26,
      "metadata": {},
      "outputs": [
        {
          "name": "stderr",
          "output_type": "stream",
          "text": [
            "C:\\Users\\ngnls\\AppData\\Local\\Programs\\Python\\Python39\\lib\\site-packages\\sklearn\\linear_model\\_logistic.py:814: ConvergenceWarning: lbfgs failed to converge (status=1):\n",
            "STOP: TOTAL NO. of ITERATIONS REACHED LIMIT.\n",
            "\n",
            "Increase the number of iterations (max_iter) or scale the data as shown in:\n",
            "    https://scikit-learn.org/stable/modules/preprocessing.html\n",
            "Please also refer to the documentation for alternative solver options:\n",
            "    https://scikit-learn.org/stable/modules/linear_model.html#logistic-regression\n",
            "  n_iter_i = _check_optimize_result(\n"
          ]
        },
        {
          "ename": "NameError",
          "evalue": "name 'x_valid' is not defined",
          "output_type": "error",
          "traceback": [
            "\u001b[1;31m---------------------------------------------------------------------------\u001b[0m",
            "\u001b[1;31mNameError\u001b[0m                                 Traceback (most recent call last)",
            "\u001b[1;32m<ipython-input-26-3fc5e555c469>\u001b[0m in \u001b[0;36m<module>\u001b[1;34m\u001b[0m\n\u001b[0;32m      3\u001b[0m \u001b[0mlogreg\u001b[0m \u001b[1;33m=\u001b[0m \u001b[0mLogisticRegression\u001b[0m\u001b[1;33m(\u001b[0m\u001b[1;33m)\u001b[0m\u001b[1;33m\u001b[0m\u001b[1;33m\u001b[0m\u001b[0m\n\u001b[0;32m      4\u001b[0m \u001b[0mlogreg\u001b[0m\u001b[1;33m.\u001b[0m\u001b[0mfit\u001b[0m\u001b[1;33m(\u001b[0m\u001b[0mx_train\u001b[0m\u001b[1;33m,\u001b[0m \u001b[0my_train\u001b[0m\u001b[1;33m)\u001b[0m\u001b[1;33m\u001b[0m\u001b[1;33m\u001b[0m\u001b[0m\n\u001b[1;32m----> 5\u001b[1;33m \u001b[0mpred\u001b[0m \u001b[1;33m=\u001b[0m \u001b[0mlogreg\u001b[0m\u001b[1;33m.\u001b[0m\u001b[0mpredict\u001b[0m\u001b[1;33m(\u001b[0m\u001b[0mx_valid\u001b[0m\u001b[1;33m)\u001b[0m\u001b[1;33m\u001b[0m\u001b[1;33m\u001b[0m\u001b[0m\n\u001b[0m\u001b[0;32m      6\u001b[0m \u001b[0my_pred\u001b[0m \u001b[1;33m=\u001b[0m \u001b[0mlogreg\u001b[0m\u001b[1;33m.\u001b[0m\u001b[0mpredict\u001b[0m\u001b[1;33m(\u001b[0m\u001b[0mx_valid\u001b[0m\u001b[1;33m)\u001b[0m\u001b[1;33m\u001b[0m\u001b[1;33m\u001b[0m\u001b[0m\n\u001b[0;32m      7\u001b[0m \u001b[0my_pred_prob\u001b[0m \u001b[1;33m=\u001b[0m \u001b[0mlogreg\u001b[0m\u001b[1;33m.\u001b[0m\u001b[0mpredict_proba\u001b[0m\u001b[1;33m(\u001b[0m\u001b[0mx_valid\u001b[0m\u001b[1;33m)\u001b[0m\u001b[1;33m\u001b[0m\u001b[1;33m\u001b[0m\u001b[0m\n",
            "\u001b[1;31mNameError\u001b[0m: name 'x_valid' is not defined"
          ]
        }
      ],
      "source": [
        "from sklearn.linear_model import LogisticRegression\n",
        "\n",
        "logreg = LogisticRegression()\n",
        "logreg.fit(x_train, y_train)\n",
        "pred = logreg.predict(x_valid)\n",
        "y_pred = logreg.predict(x_valid)\n",
        "y_pred_prob = logreg.predict_proba(x_valid)"
      ]
    },
    {
      "cell_type": "code",
      "execution_count": 24,
      "metadata": {},
      "outputs": [
        {
          "name": "stdout",
          "output_type": "stream",
          "text": [
            "accuracy =  0.9363223568951339\n",
            "score =  0.3472765180111649\n"
          ]
        }
      ],
      "source": [
        "#正答率の確認\n",
        "from sklearn.metrics import accuracy_score\n",
        "def calc_score(y_true, y_pred):\n",
        "  tmp = []\n",
        "  for i in range(len(y_true)):\n",
        "    tmp.append([0,0,0,0,0])\n",
        "    tmp[i][int(y_true[i])] = 1\n",
        "  tmp = np.array(tmp)\n",
        "  #確率が極端な場合クリップ（損失が大きくなりすぎるため）\n",
        "  y_pred = np.where(y_pred<=0.001, 0.001, y_pred)\n",
        "  y_pred = np.where(y_pred>=0.999, 0.999, y_pred)\n",
        "  return -np.sum(tmp * np.log(y_pred)) / len(y_true)\n",
        "\n",
        "print('accuracy = ', accuracy_score(y_true=y_valid.values, y_pred=y_pred))\n",
        "print('score = ', calc_score(y_true=y_valid.values, y_pred=y_pred_prob))"
      ]
    },
    {
      "cell_type": "markdown",
      "metadata": {},
      "source": [
        "### submission用に変換"
      ]
    },
    {
      "cell_type": "code",
      "execution_count": 28,
      "metadata": {},
      "outputs": [
        {
          "name": "stderr",
          "output_type": "stream",
          "text": [
            "C:\\Users\\ngnls\\AppData\\Local\\Programs\\Python\\Python39\\lib\\site-packages\\sklearn\\base.py:484: FutureWarning: The feature names should match those that were passed during fit. Starting version 1.2, an error will be raised.\n",
            "Feature names unseen at fit time:\n",
            "- fav_novel_cnt_bin\n",
            "Feature names must be in the same order as they were in fit.\n",
            "\n",
            "  warnings.warn(message, FutureWarning)\n"
          ]
        },
        {
          "ename": "ValueError",
          "evalue": "Input contains NaN, infinity or a value too large for dtype('float64').",
          "output_type": "error",
          "traceback": [
            "\u001b[1;31m---------------------------------------------------------------------------\u001b[0m",
            "\u001b[1;31mValueError\u001b[0m                                Traceback (most recent call last)",
            "\u001b[1;32m<ipython-input-28-2eb2d2443d56>\u001b[0m in \u001b[0;36m<module>\u001b[1;34m\u001b[0m\n\u001b[0;32m      2\u001b[0m \u001b[1;33m\u001b[0m\u001b[0m\n\u001b[0;32m      3\u001b[0m \u001b[1;31m# test = test.drop('fav_novel_cnt_bin', axis=1)\u001b[0m\u001b[1;33m\u001b[0m\u001b[1;33m\u001b[0m\u001b[1;33m\u001b[0m\u001b[0m\n\u001b[1;32m----> 4\u001b[1;33m \u001b[0my_pred\u001b[0m \u001b[1;33m=\u001b[0m \u001b[0mmodel\u001b[0m\u001b[1;33m.\u001b[0m\u001b[0mpredict\u001b[0m\u001b[1;33m(\u001b[0m\u001b[0mtest\u001b[0m\u001b[1;33m)\u001b[0m\u001b[1;33m\u001b[0m\u001b[1;33m\u001b[0m\u001b[0m\n\u001b[0m\u001b[0;32m      5\u001b[0m \u001b[0my_pred_prob\u001b[0m \u001b[1;33m=\u001b[0m \u001b[0mmodel\u001b[0m\u001b[1;33m.\u001b[0m\u001b[0mpredict_proba\u001b[0m\u001b[1;33m(\u001b[0m\u001b[0mtest\u001b[0m\u001b[1;33m)\u001b[0m\u001b[1;33m\u001b[0m\u001b[1;33m\u001b[0m\u001b[0m\n\u001b[0;32m      6\u001b[0m \u001b[1;33m\u001b[0m\u001b[0m\n",
            "\u001b[1;32m~\\AppData\\Local\\Programs\\Python\\Python39\\lib\\site-packages\\sklearn\\linear_model\\_base.py\u001b[0m in \u001b[0;36mpredict\u001b[1;34m(self, X)\u001b[0m\n\u001b[0;32m    423\u001b[0m             \u001b[0mPredicted\u001b[0m \u001b[1;32mclass\u001b[0m \u001b[0mlabel\u001b[0m \u001b[0mper\u001b[0m \u001b[0msample\u001b[0m\u001b[1;33m.\u001b[0m\u001b[1;33m\u001b[0m\u001b[1;33m\u001b[0m\u001b[0m\n\u001b[0;32m    424\u001b[0m         \"\"\"\n\u001b[1;32m--> 425\u001b[1;33m         \u001b[0mscores\u001b[0m \u001b[1;33m=\u001b[0m \u001b[0mself\u001b[0m\u001b[1;33m.\u001b[0m\u001b[0mdecision_function\u001b[0m\u001b[1;33m(\u001b[0m\u001b[0mX\u001b[0m\u001b[1;33m)\u001b[0m\u001b[1;33m\u001b[0m\u001b[1;33m\u001b[0m\u001b[0m\n\u001b[0m\u001b[0;32m    426\u001b[0m         \u001b[1;32mif\u001b[0m \u001b[0mlen\u001b[0m\u001b[1;33m(\u001b[0m\u001b[0mscores\u001b[0m\u001b[1;33m.\u001b[0m\u001b[0mshape\u001b[0m\u001b[1;33m)\u001b[0m \u001b[1;33m==\u001b[0m \u001b[1;36m1\u001b[0m\u001b[1;33m:\u001b[0m\u001b[1;33m\u001b[0m\u001b[1;33m\u001b[0m\u001b[0m\n\u001b[0;32m    427\u001b[0m             \u001b[0mindices\u001b[0m \u001b[1;33m=\u001b[0m \u001b[1;33m(\u001b[0m\u001b[0mscores\u001b[0m \u001b[1;33m>\u001b[0m \u001b[1;36m0\u001b[0m\u001b[1;33m)\u001b[0m\u001b[1;33m.\u001b[0m\u001b[0mastype\u001b[0m\u001b[1;33m(\u001b[0m\u001b[0mint\u001b[0m\u001b[1;33m)\u001b[0m\u001b[1;33m\u001b[0m\u001b[1;33m\u001b[0m\u001b[0m\n",
            "\u001b[1;32m~\\AppData\\Local\\Programs\\Python\\Python39\\lib\\site-packages\\sklearn\\linear_model\\_base.py\u001b[0m in \u001b[0;36mdecision_function\u001b[1;34m(self, X)\u001b[0m\n\u001b[0;32m    405\u001b[0m         \u001b[0mcheck_is_fitted\u001b[0m\u001b[1;33m(\u001b[0m\u001b[0mself\u001b[0m\u001b[1;33m)\u001b[0m\u001b[1;33m\u001b[0m\u001b[1;33m\u001b[0m\u001b[0m\n\u001b[0;32m    406\u001b[0m \u001b[1;33m\u001b[0m\u001b[0m\n\u001b[1;32m--> 407\u001b[1;33m         \u001b[0mX\u001b[0m \u001b[1;33m=\u001b[0m \u001b[0mself\u001b[0m\u001b[1;33m.\u001b[0m\u001b[0m_validate_data\u001b[0m\u001b[1;33m(\u001b[0m\u001b[0mX\u001b[0m\u001b[1;33m,\u001b[0m \u001b[0maccept_sparse\u001b[0m\u001b[1;33m=\u001b[0m\u001b[1;34m\"csr\"\u001b[0m\u001b[1;33m,\u001b[0m \u001b[0mreset\u001b[0m\u001b[1;33m=\u001b[0m\u001b[1;32mFalse\u001b[0m\u001b[1;33m)\u001b[0m\u001b[1;33m\u001b[0m\u001b[1;33m\u001b[0m\u001b[0m\n\u001b[0m\u001b[0;32m    408\u001b[0m         \u001b[0mscores\u001b[0m \u001b[1;33m=\u001b[0m \u001b[0msafe_sparse_dot\u001b[0m\u001b[1;33m(\u001b[0m\u001b[0mX\u001b[0m\u001b[1;33m,\u001b[0m \u001b[0mself\u001b[0m\u001b[1;33m.\u001b[0m\u001b[0mcoef_\u001b[0m\u001b[1;33m.\u001b[0m\u001b[0mT\u001b[0m\u001b[1;33m,\u001b[0m \u001b[0mdense_output\u001b[0m\u001b[1;33m=\u001b[0m\u001b[1;32mTrue\u001b[0m\u001b[1;33m)\u001b[0m \u001b[1;33m+\u001b[0m \u001b[0mself\u001b[0m\u001b[1;33m.\u001b[0m\u001b[0mintercept_\u001b[0m\u001b[1;33m\u001b[0m\u001b[1;33m\u001b[0m\u001b[0m\n\u001b[0;32m    409\u001b[0m         \u001b[1;32mreturn\u001b[0m \u001b[0mscores\u001b[0m\u001b[1;33m.\u001b[0m\u001b[0mravel\u001b[0m\u001b[1;33m(\u001b[0m\u001b[1;33m)\u001b[0m \u001b[1;32mif\u001b[0m \u001b[0mscores\u001b[0m\u001b[1;33m.\u001b[0m\u001b[0mshape\u001b[0m\u001b[1;33m[\u001b[0m\u001b[1;36m1\u001b[0m\u001b[1;33m]\u001b[0m \u001b[1;33m==\u001b[0m \u001b[1;36m1\u001b[0m \u001b[1;32melse\u001b[0m \u001b[0mscores\u001b[0m\u001b[1;33m\u001b[0m\u001b[1;33m\u001b[0m\u001b[0m\n",
            "\u001b[1;32m~\\AppData\\Local\\Programs\\Python\\Python39\\lib\\site-packages\\sklearn\\base.py\u001b[0m in \u001b[0;36m_validate_data\u001b[1;34m(self, X, y, reset, validate_separately, **check_params)\u001b[0m\n\u001b[0;32m    555\u001b[0m             \u001b[1;32mraise\u001b[0m \u001b[0mValueError\u001b[0m\u001b[1;33m(\u001b[0m\u001b[1;34m\"Validation should be done on X, y or both.\"\u001b[0m\u001b[1;33m)\u001b[0m\u001b[1;33m\u001b[0m\u001b[1;33m\u001b[0m\u001b[0m\n\u001b[0;32m    556\u001b[0m         \u001b[1;32melif\u001b[0m \u001b[1;32mnot\u001b[0m \u001b[0mno_val_X\u001b[0m \u001b[1;32mand\u001b[0m \u001b[0mno_val_y\u001b[0m\u001b[1;33m:\u001b[0m\u001b[1;33m\u001b[0m\u001b[1;33m\u001b[0m\u001b[0m\n\u001b[1;32m--> 557\u001b[1;33m             \u001b[0mX\u001b[0m \u001b[1;33m=\u001b[0m \u001b[0mcheck_array\u001b[0m\u001b[1;33m(\u001b[0m\u001b[0mX\u001b[0m\u001b[1;33m,\u001b[0m \u001b[1;33m**\u001b[0m\u001b[0mcheck_params\u001b[0m\u001b[1;33m)\u001b[0m\u001b[1;33m\u001b[0m\u001b[1;33m\u001b[0m\u001b[0m\n\u001b[0m\u001b[0;32m    558\u001b[0m             \u001b[0mout\u001b[0m \u001b[1;33m=\u001b[0m \u001b[0mX\u001b[0m\u001b[1;33m\u001b[0m\u001b[1;33m\u001b[0m\u001b[0m\n\u001b[0;32m    559\u001b[0m         \u001b[1;32melif\u001b[0m \u001b[0mno_val_X\u001b[0m \u001b[1;32mand\u001b[0m \u001b[1;32mnot\u001b[0m \u001b[0mno_val_y\u001b[0m\u001b[1;33m:\u001b[0m\u001b[1;33m\u001b[0m\u001b[1;33m\u001b[0m\u001b[0m\n",
            "\u001b[1;32m~\\AppData\\Local\\Programs\\Python\\Python39\\lib\\site-packages\\sklearn\\utils\\validation.py\u001b[0m in \u001b[0;36mcheck_array\u001b[1;34m(array, accept_sparse, accept_large_sparse, dtype, order, copy, force_all_finite, ensure_2d, allow_nd, ensure_min_samples, ensure_min_features, estimator)\u001b[0m\n\u001b[0;32m    790\u001b[0m \u001b[1;33m\u001b[0m\u001b[0m\n\u001b[0;32m    791\u001b[0m         \u001b[1;32mif\u001b[0m \u001b[0mforce_all_finite\u001b[0m\u001b[1;33m:\u001b[0m\u001b[1;33m\u001b[0m\u001b[1;33m\u001b[0m\u001b[0m\n\u001b[1;32m--> 792\u001b[1;33m             \u001b[0m_assert_all_finite\u001b[0m\u001b[1;33m(\u001b[0m\u001b[0marray\u001b[0m\u001b[1;33m,\u001b[0m \u001b[0mallow_nan\u001b[0m\u001b[1;33m=\u001b[0m\u001b[0mforce_all_finite\u001b[0m \u001b[1;33m==\u001b[0m \u001b[1;34m\"allow-nan\"\u001b[0m\u001b[1;33m)\u001b[0m\u001b[1;33m\u001b[0m\u001b[1;33m\u001b[0m\u001b[0m\n\u001b[0m\u001b[0;32m    793\u001b[0m \u001b[1;33m\u001b[0m\u001b[0m\n\u001b[0;32m    794\u001b[0m     \u001b[1;32mif\u001b[0m \u001b[0mensure_min_samples\u001b[0m \u001b[1;33m>\u001b[0m \u001b[1;36m0\u001b[0m\u001b[1;33m:\u001b[0m\u001b[1;33m\u001b[0m\u001b[1;33m\u001b[0m\u001b[0m\n",
            "\u001b[1;32m~\\AppData\\Local\\Programs\\Python\\Python39\\lib\\site-packages\\sklearn\\utils\\validation.py\u001b[0m in \u001b[0;36m_assert_all_finite\u001b[1;34m(X, allow_nan, msg_dtype)\u001b[0m\n\u001b[0;32m    112\u001b[0m         ):\n\u001b[0;32m    113\u001b[0m             \u001b[0mtype_err\u001b[0m \u001b[1;33m=\u001b[0m \u001b[1;34m\"infinity\"\u001b[0m \u001b[1;32mif\u001b[0m \u001b[0mallow_nan\u001b[0m \u001b[1;32melse\u001b[0m \u001b[1;34m\"NaN, infinity\"\u001b[0m\u001b[1;33m\u001b[0m\u001b[1;33m\u001b[0m\u001b[0m\n\u001b[1;32m--> 114\u001b[1;33m             raise ValueError(\n\u001b[0m\u001b[0;32m    115\u001b[0m                 msg_err.format(\n\u001b[0;32m    116\u001b[0m                     \u001b[0mtype_err\u001b[0m\u001b[1;33m,\u001b[0m \u001b[0mmsg_dtype\u001b[0m \u001b[1;32mif\u001b[0m \u001b[0mmsg_dtype\u001b[0m \u001b[1;32mis\u001b[0m \u001b[1;32mnot\u001b[0m \u001b[1;32mNone\u001b[0m \u001b[1;32melse\u001b[0m \u001b[0mX\u001b[0m\u001b[1;33m.\u001b[0m\u001b[0mdtype\u001b[0m\u001b[1;33m\u001b[0m\u001b[1;33m\u001b[0m\u001b[0m\n",
            "\u001b[1;31mValueError\u001b[0m: Input contains NaN, infinity or a value too large for dtype('float64')."
          ]
        }
      ],
      "source": [
        "\n",
        "model = logreg\n",
        "\n",
        "# test = test.drop('fav_novel_cnt_bin', axis=1)\n",
        "y_pred = model.predict(test)\n",
        "y_pred_prob = model.predict_proba(test)\n",
        "\n",
        "#確率が極端な場合クリップ（損失が大きくなりすぎるため）\n",
        "y_pred_prob = np.where(y_pred_prob<=0.001, 0.001, y_pred_prob)\n",
        "y_pred_prob = np.where(y_pred_prob>=0.999, 0.999, y_pred_prob)\n",
        "\n",
        "predData = pd.DataFrame(y_pred_prob)\n",
        "sub = pd.read_csv(dataPath +'sample_submission.csv')\n",
        "sub['proba_0'] = predData[0]\n",
        "sub['proba_1'] = predData[1]\n",
        "sub['proba_2'] = predData[2]\n",
        "sub['proba_3'] = predData[3]\n",
        "sub['proba_4'] = predData[4]\n",
        "\n",
        "import datetime\n",
        "now = datetime.datetime.now()\n",
        "filename = str(now.year)+'-'+str(now.month)+'-'+ str(now.day) +'-'+ str(now.hour)+'-'+str(now.minute)\n",
        "sub.to_csv('./data/sub/'+ filename +'.csv', index=False)\n"
      ]
    }
  ],
  "metadata": {
    "colab": {
      "collapsed_sections": [
        "BJFOVOhQn54z"
      ],
      "name": "mainSution.ipynb",
      "provenance": []
    },
    "interpreter": {
      "hash": "6f371c1edc13f10b1623f8473fa71877fe279074a94f999a2097c9dc15f19259"
    },
    "kernelspec": {
      "display_name": "Python 3.9.2 64-bit",
      "name": "python3"
    },
    "language_info": {
      "codemirror_mode": {
        "name": "ipython",
        "version": 3
      },
      "file_extension": ".py",
      "mimetype": "text/x-python",
      "name": "python",
      "nbconvert_exporter": "python",
      "pygments_lexer": "ipython3",
      "version": "3.9.2"
    }
  },
  "nbformat": 4,
  "nbformat_minor": 2
}
