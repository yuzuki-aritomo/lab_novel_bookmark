{
 "cells": [
  {
   "cell_type": "code",
   "execution_count": null,
   "metadata": {},
   "outputs": [],
   "source": [
    "from janome.analyzer import Analyzer\n",
    "from janome.charfilter import UnicodeNormalizeCharFilter, RegexReplaceCharFilter\n",
    "from janome.tokenizer import Tokenizer as JanomeTokenizer  # sumyのTokenizerと名前が被るため\n",
    "from janome.tokenfilter import POSKeepFilter, ExtractAttributeFilter\n",
    "\n",
    "text = \"\"\"転職 Advent Calendar 2016 - Qiitaの14日目となります。 少しポエムも含みます。\n",
    "今年11月にSIerからWebサービスの会社へ転職しました。\n",
    "早くから退職することを報告していたこともあって、幸いにも有給消化として１ヶ月のお休みをいただくことができました（これでも10日ほど余らせてしまいました）。\n",
    "# ・・・ (省略) ・・・\n",
    "だからこそ、有給消化期間はなんとしてでももぎ取るようにしましょう。\"\"\"\n",
    "\n",
    "# 1行1文となっているため、改行コードで分離\n",
    "sentences = [t for t in text.split('\\n')]\n",
    "for i in range(2):\n",
    "    print(sentences[i])\n",
    "# 転職 Advent Calendar 2016 - Qiitaの14日目となります。 少しポエムも含みます。\n",
    "# 今年11月にSIerからWebサービスの会社へ転職しました。\n",
    "\n",
    "# 形態素解析器を作る\n",
    "analyzer = Analyzer(\n",
    "    [UnicodeNormalizeCharFilter(), RegexReplaceCharFilter(r'[(\\)「」、。]', ' ')],  # ()「」、。は全てスペースに置き換える\n",
    "    JanomeTokenizer(),\n",
    "    [POSKeepFilter(['名詞', '形容詞', '副詞', '動詞']), ExtractAttributeFilter('base_form')]  # 名詞・形容詞・副詞・動詞の原型のみ\n",
    ")\n",
    "\n",
    "# 抽出された単語をスペースで連結\n",
    "# 末尾の'。'は、この後使うtinysegmenterで文として分離させるため。\n",
    "corpus = [' '.join(analyzer.analyze(s)) + '。' for s in sentences]\n",
    "for i in range(2):\n",
    "    print(corpus[i])\n",
    "# 転職 Advent Calendar 2016 - Qiita 14 日 目 なる 少し ポエム 含む。\n",
    "# 今年 11 月 SIer Web サービス 会社 転職 する。"
   ]
  },
  {
   "cell_type": "code",
   "execution_count": 6,
   "metadata": {},
   "outputs": [
    {
     "name": "stdout",
     "output_type": "stream",
     "text": [
      "転職 Advent Calendar 2016 - Qiitaの14日目となります。 少しポエムも含みます。\n",
      "今年11月にSIerからWebサービスの会社へ転職しました。\n"
     ]
    }
   ],
   "source": [
    "from sumy.parsers.plaintext import PlaintextParser\n",
    "from sumy.nlp.tokenizers import Tokenizer\n",
    "from sumy.summarizers.lex_rank import LexRankSummarizer\n",
    "\n",
    "corpus = [\n",
    "    '転職 Advent Calendar 2016 - Qiita 14 日 目 なる 少し ポエム 含む。',\n",
    "    '今年 11 月 SIer Web サービス 会社 転職 する。'\n",
    "]\n",
    "\n",
    "# 連結したcorpusを再度tinysegmenterでトークナイズさせる\n",
    "parser = PlaintextParser.from_string(''.join(corpus), Tokenizer('japanese'))\n",
    "\n",
    "# LexRankで要約を2文抽出\n",
    "summarizer = LexRankSummarizer()\n",
    "summarizer.stop_words = [' ']  # スペースも1単語として認識されるため、ストップワードにすることで除外する\n",
    "\n",
    "summary = summarizer(document=parser.document, sentences_count=2)\n",
    "\n",
    "# 元の文を表示\n",
    "for sentence in summary:\n",
    "    print(sentences[corpus.index(sentence.__str__())])"
   ]
  }
 ],
 "metadata": {
  "interpreter": {
   "hash": "aee8b7b246df8f9039afb4144a1f6fd8d2ca17a180786b69acc140d282b71a49"
  },
  "kernelspec": {
   "display_name": "Python 3.9.7 64-bit",
   "language": "python",
   "name": "python3"
  },
  "language_info": {
   "codemirror_mode": {
    "name": "ipython",
    "version": 3
   },
   "file_extension": ".py",
   "mimetype": "text/x-python",
   "name": "python",
   "nbconvert_exporter": "python",
   "pygments_lexer": "ipython3",
   "version": "3.9.7"
  },
  "orig_nbformat": 4
 },
 "nbformat": 4,
 "nbformat_minor": 2
}
