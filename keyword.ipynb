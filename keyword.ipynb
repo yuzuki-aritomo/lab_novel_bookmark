{
 "cells": [
  {
   "cell_type": "markdown",
   "metadata": {},
   "source": [
    "## データの読み込み"
   ]
  },
  {
   "cell_type": "code",
   "execution_count": 6,
   "metadata": {},
   "outputs": [],
   "source": [
    "import pandas as pd\n",
    "import numpy as np\n",
    "\n",
    "#local 読み込み\n",
    "dataPath = \"datasets/\"\n",
    "keyPath = 'data/keyworddata/'"
   ]
  },
  {
   "cell_type": "markdown",
   "metadata": {},
   "source": [
    "## keywordを抽出"
   ]
  },
  {
   "cell_type": "code",
   "execution_count": 3,
   "metadata": {},
   "outputs": [],
   "source": [
    "test = pd.read_csv(dataPath + 'test.csv')\n",
    "train = pd.read_csv(dataPath +'train.csv')\n",
    "sub = pd.read_csv(dataPath +'sample_submission.csv')\n",
    "\n",
    "data = pd.concat([train, test], sort=False)#データの統合\n",
    "\n",
    "data['keyword'].to_csv(keyPath + 'origin.csv')"
   ]
  },
  {
   "cell_type": "markdown",
   "metadata": {},
   "source": [
    "## 分散表現に変換"
   ]
  },
  {
   "cell_type": "code",
   "execution_count": 2,
   "metadata": {},
   "outputs": [],
   "source": [
    "import gensim\n",
    "from pprint import pprint\n",
    "\n",
    "# chiVeデータのPATH（kv:KeyedVectors）\n",
    "model_path = './jalang/entity_vector.model.txt'\n",
    "# モデルの読み込み\n",
    "model = gensim.models.KeyedVectors.load_word2vec_format(model_path)"
   ]
  },
  {
   "cell_type": "code",
   "execution_count": null,
   "metadata": {},
   "outputs": [],
   "source": [
    "#文章の分散表現を求める(単語ベクトルの平均)\n",
    "def getSentenceVector(text):\n",
    "  if text is np.nan:\n",
    "    return np.array([np.nan for _ in range(200)])\n",
    "  L = []\n",
    "  nonL = []\n",
    "  for w in text.split(' '):\n",
    "    if w in model.key_to_index:\n",
    "      L.append(model.get_vector(key=w))\n",
    "    else:\n",
    "      nonL.append(w)#辞書に場合\n",
    "  #辞書にないものを出力\n",
    "  with open('./data/keyworddata/nonDic.txt', 'w') as f:\n",
    "    for d in nonL:\n",
    "      try:\n",
    "        f.write(\"%s\\n\" % d)\n",
    "      except Exception as e:\n",
    "        print(d, e)\n",
    "  if len(L)==0:\n",
    "    return np.array([np.nan for _ in range(200)])\n",
    "  return np.array(L).mean(axis=0)\n",
    "\n",
    "#分散表現をnp.arrayの形に変換\n",
    "def makeVectorArrayList(data):\n",
    "  vec_list = []\n",
    "  for index, row in data.iterrows():\n",
    "    vec_list.append(getSentenceVector(row['keyword']))\n",
    "  return np.array(vec_list)\n",
    "\n",
    "data = pd.read_csv(keyPath+'origin.csv', index_col=0)\n",
    "vec_list_array = makeVectorArrayList(data)\n",
    "vec_data = pd.DataFrame(data=vec_list_array, dtype='float')\n",
    "vec_data.to_csv(keyPath+'key_vec_learnedModel.csv')\n"
   ]
  },
  {
   "cell_type": "code",
   "execution_count": 8,
   "metadata": {},
   "outputs": [
    {
     "data": {
      "text/plain": [
       "48522"
      ]
     },
     "execution_count": 8,
     "metadata": {},
     "output_type": "execute_result"
    }
   ],
   "source": [
    "len(vec_data)"
   ]
  }
 ],
 "metadata": {
  "interpreter": {
   "hash": "6f371c1edc13f10b1623f8473fa71877fe279074a94f999a2097c9dc15f19259"
  },
  "kernelspec": {
   "display_name": "Python 3.9.2 64-bit",
   "name": "python3"
  },
  "language_info": {
   "codemirror_mode": {
    "name": "ipython",
    "version": 3
   },
   "file_extension": ".py",
   "mimetype": "text/x-python",
   "name": "python",
   "nbconvert_exporter": "python",
   "pygments_lexer": "ipython3",
   "version": "3.9.2"
  },
  "orig_nbformat": 4
 },
 "nbformat": 4,
 "nbformat_minor": 2
}
