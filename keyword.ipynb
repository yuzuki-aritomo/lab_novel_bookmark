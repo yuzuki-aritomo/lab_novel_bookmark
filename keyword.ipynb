{
 "cells": [
  {
   "cell_type": "markdown",
   "metadata": {},
   "source": [
    "## データの読み込み"
   ]
  },
  {
   "cell_type": "code",
   "execution_count": 2,
   "metadata": {},
   "outputs": [],
   "source": [
    "import pandas as pd\n",
    "import numpy as np\n",
    "\n",
    "#local 読み込み\n",
    "dataPath = \"datasets/\"\n",
    "keyPath = 'data/keyworddata/'"
   ]
  },
  {
   "cell_type": "markdown",
   "metadata": {},
   "source": [
    "## keywordを抽出"
   ]
  },
  {
   "cell_type": "code",
   "execution_count": 2,
   "metadata": {},
   "outputs": [],
   "source": [
    "test = pd.read_csv(dataPath + 'test.csv')\n",
    "train = pd.read_csv(dataPath +'train.csv')\n",
    "sub = pd.read_csv(dataPath +'sample_submission.csv')\n",
    "\n",
    "data = pd.concat([train, test], sort=False)#データの統合\n",
    "\n",
    "data['keyword'].to_csv(keyPath + 'origin.csv')"
   ]
  },
  {
   "cell_type": "code",
   "execution_count": 9,
   "metadata": {},
   "outputs": [],
   "source": [
    "from mojimoji import zen_to_han\n",
    "import re\n",
    "\n",
    "#unicode正規化\n",
    "import unicodedata\n",
    "def normalize_unicode(text):\n",
    "  return unicodedata.normalize('NFKC', text)\n",
    "\n",
    "#記号,特殊文字を削除(数字, 英語, ひらがな,カタカナ,漢字,ー。、以外'、'に変換)\n",
    "def delete_symbol(text):\n",
    "  return re.sub('[^0-9a-zA-Zぁ-んァ-ヿｦ-ﾟ一-龥ー。、]', '',text)\n",
    "\n",
    "#データのクリーン処理\n",
    "def clean_text(text):\n",
    "  wL = []\n",
    "  text = str(text)\n",
    "  for w in text.split():\n",
    "    w = normalize_unicode(w)\n",
    "    w = delete_symbol(w)\n",
    "    wL.append(w)\n",
    "  return \" \".join(wL)\n",
    "\n",
    "#titleをクリーニング処理\n",
    "data = pd.read_csv(keyPath+'origin.csv', index_col=0)\n",
    "data['cleaning'] = data['keyword'].apply(clean_text)\n",
    "data.to_csv(keyPath+'cleaning.csv')"
   ]
  },
  {
   "cell_type": "code",
   "execution_count": 9,
   "metadata": {},
   "outputs": [
    {
     "name": "stdout",
     "output_type": "stream",
     "text": [
      "トゥデー 晩御飯\n",
      "トゥデー 晩御飯 女子高生\n",
      "トゥデー 晩御飯 カツ丼\n"
     ]
    }
   ],
   "source": [
    "from sudachipy import tokenizer\n",
    "from sudachipy import dictionary\n",
    "\n",
    "tokenizer_obj = dictionary.Dictionary().create()\n",
    "\n",
    "# sudachi による単語への分割関数,(名詞,形容詞,動詞)のみ残す\n",
    "def AnalysisbySudachi(text):\n",
    "  if text is np.nan:#欠損値は欠損値のまま返す\n",
    "    return np.NaN\n",
    "  mode = tokenizer.Tokenizer.SplitMode.C #モードCの一番長い形で分ける\n",
    "  results =[m.surface() for m in tokenizer_obj.tokenize(text, mode)]\n",
    "  word_list = []\n",
    "  for word in results:\n",
    "    if not (word == \"\"): #何故か分かち書きの結果として空白データ（''）ができたための省く処理\n",
    "      normalize = tokenizer_obj.tokenize(word, mode)[0].normalized_form() #正規化（標準化？）してなるべく言葉の揺れを無くす　e.g. 打込む → 打ち込む かつ丼 → カツ丼\n",
    "      pos = tokenizer_obj.tokenize(normalize, mode)[0].part_of_speech()[0]\n",
    "      if pos in  [\"名詞\", \"動詞\", \"形容詞\"]:  # 対象とする品詞を指定\n",
    "        word = tokenizer_obj.tokenize(normalize, mode)[0].dictionary_form()\n",
    "        word_list.append(word)\n",
    "  return \" \".join(word_list) #スペースで繋げていく\n",
    "\n",
    "#形態素解析結果を'sudachi'に代入\n",
    "data = pd.read_csv(keyPath+'cleaning.csv', index_col=0)\n",
    "data['sudachi'] = data['cleaning'].apply(AnalysisbySudachi)\n",
    "data.to_csv(keyPath+'sudachi.csv')\n"
   ]
  },
  {
   "cell_type": "markdown",
   "metadata": {},
   "source": [
    "## 分散表現に変換"
   ]
  },
  {
   "cell_type": "markdown",
   "metadata": {},
   "source": [
    "### 学習済みモデルの読み込み"
   ]
  },
  {
   "cell_type": "code",
   "execution_count": 2,
   "metadata": {},
   "outputs": [],
   "source": [
    "import gensim\n",
    "from pprint import pprint\n",
    "\n",
    "# chiVeデータのPATH（kv:KeyedVectors）\n",
    "model_path = './jalang/entity_vector.model.txt'\n",
    "# モデルの読み込み\n",
    "model = gensim.models.KeyedVectors.load_word2vec_format(model_path)"
   ]
  },
  {
   "cell_type": "markdown",
   "metadata": {},
   "source": [
    "### 自作学習モデル"
   ]
  },
  {
   "cell_type": "code",
   "execution_count": null,
   "metadata": {},
   "outputs": [],
   "source": [
    "from gensim.models import word2vec\n",
    "\n",
    "data = pd.read_csv(keyPath+'origin.csv', index_col=0)\n",
    "\n",
    "#[[文章の単語], [文章の単語]]を作成\n",
    "title_dic = []\n",
    "def make_title_dic(text):\n",
    "  if text is np.nan:\n",
    "    return\n",
    "  title_dic.append(text.split(' '))\n",
    "data['keyword'].map(make_title_dic)\n",
    "\n",
    "#学習\n",
    "model = word2vec.Word2Vec(title_dic,vector_size=200, min_count=5, window=5, epochs=20)\n",
    "\n",
    "#作成した辞書をcsvに保存して可視化(処理には関係ない)\n",
    "from gensim import corpora#辞書を作るためのもの\n",
    "dictionary = corpora.Dictionary(title_dic)#textsをもとに辞書を作成します\n",
    "dictionary.filter_extremes(no_below=5)#出現文書数が5回以下のものはさようなら\n",
    "dictionary.save_as_text(keyPath + 'dictionary.csv')#辞書を保存\n",
    "model = model.wv\n",
    "# In[4]:\n",
    "print('語彙の数:', len(model.index_to_key))  # 語彙の数\n",
    "print(model.index_to_key[:10])"
   ]
  },
  {
   "cell_type": "markdown",
   "metadata": {},
   "source": [
    "### 分散表現に変換"
   ]
  },
  {
   "cell_type": "code",
   "execution_count": null,
   "metadata": {},
   "outputs": [],
   "source": [
    "#文章の分散表現を求める(単語ベクトルの平均)\n",
    "def getSentenceVector(text):\n",
    "  if text is np.nan:\n",
    "    return np.array([np.nan for _ in range(200)])\n",
    "  L = []\n",
    "  nonL = []\n",
    "  for w in text.split(' '):\n",
    "    if w in model.key_to_index:\n",
    "      L.append(model.get_vector(key=w))\n",
    "    else:\n",
    "      nonL.append(w)#辞書に場合\n",
    "  #辞書にないものを出力\n",
    "  with open('./data/keyworddata/nonDic.txt', 'w') as f:\n",
    "    for d in nonL:\n",
    "      try:\n",
    "        f.write(\"%s\\n\" % d)\n",
    "      except Exception as e:\n",
    "        print(d, e)\n",
    "  if len(L)==0:\n",
    "    return np.array([np.nan for _ in range(200)])\n",
    "  return np.array(L).mean(axis=0)\n",
    "\n",
    "#分散表現をnp.arrayの形に変換\n",
    "def makeVectorArrayList(data):\n",
    "  vec_list = []\n",
    "  for index, row in data.iterrows():\n",
    "    vec_list.append(getSentenceVector(row['keyword']))\n",
    "  return np.array(vec_list)\n",
    "\n",
    "data = pd.read_csv(keyPath+'origin.csv', index_col=0)\n",
    "vec_list_array = makeVectorArrayList(data)\n",
    "vec_data = pd.DataFrame(data=vec_list_array, dtype='float')\n",
    "vec_data.to_csv(keyPath+'key_vec_originalModel.csv')\n"
   ]
  },
  {
   "cell_type": "code",
   "execution_count": 7,
   "metadata": {},
   "outputs": [
    {
     "data": {
      "text/plain": [
       "48522"
      ]
     },
     "execution_count": 7,
     "metadata": {},
     "output_type": "execute_result"
    }
   ],
   "source": [
    "len(vec_data)"
   ]
  }
 ],
 "metadata": {
  "interpreter": {
   "hash": "6f371c1edc13f10b1623f8473fa71877fe279074a94f999a2097c9dc15f19259"
  },
  "kernelspec": {
   "display_name": "Python 3.9.2 64-bit",
   "name": "python3"
  },
  "language_info": {
   "codemirror_mode": {
    "name": "ipython",
    "version": 3
   },
   "file_extension": ".py",
   "mimetype": "text/x-python",
   "name": "python",
   "nbconvert_exporter": "python",
   "pygments_lexer": "ipython3",
   "version": "3.9.2"
  },
  "orig_nbformat": 4
 },
 "nbformat": 4,
 "nbformat_minor": 2
}
