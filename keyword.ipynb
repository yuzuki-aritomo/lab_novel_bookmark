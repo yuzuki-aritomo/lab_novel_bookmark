{
 "cells": [
  {
   "cell_type": "markdown",
   "metadata": {},
   "source": [
    "## データの読み込み"
   ]
  },
  {
   "cell_type": "code",
   "execution_count": 1,
   "metadata": {},
   "outputs": [],
   "source": [
    "import pandas as pd\n",
    "import numpy as np\n",
    "\n",
    "#local 読み込み\n",
    "dataPath = \"datasets/\"\n",
    "keyPath = 'data/keyworddata/'"
   ]
  },
  {
   "cell_type": "markdown",
   "metadata": {},
   "source": [
    "## keywordを抽出"
   ]
  },
  {
   "cell_type": "code",
   "execution_count": 2,
   "metadata": {},
   "outputs": [],
   "source": [
    "test = pd.read_csv(dataPath + 'test.csv')\n",
    "train = pd.read_csv(dataPath +'train.csv')\n",
    "sub = pd.read_csv(dataPath +'sample_submission.csv')\n",
    "\n",
    "data = pd.concat([train, test], sort=False)#データの統合\n",
    "\n",
    "data['keyword'].to_csv(keyPath + 'origin.csv')"
   ]
  },
  {
   "cell_type": "markdown",
   "metadata": {},
   "source": [
    "## 分散表現に変換"
   ]
  },
  {
   "cell_type": "markdown",
   "metadata": {},
   "source": [
    "### 学習済みモデルの読み込み"
   ]
  },
  {
   "cell_type": "code",
   "execution_count": 2,
   "metadata": {},
   "outputs": [],
   "source": [
    "import gensim\n",
    "from pprint import pprint\n",
    "\n",
    "# chiVeデータのPATH（kv:KeyedVectors）\n",
    "model_path = './jalang/entity_vector.model.txt'\n",
    "# モデルの読み込み\n",
    "model = gensim.models.KeyedVectors.load_word2vec_format(model_path)"
   ]
  },
  {
   "cell_type": "markdown",
   "metadata": {},
   "source": [
    "### 自作学習モデル"
   ]
  },
  {
   "cell_type": "code",
   "execution_count": 5,
   "metadata": {},
   "outputs": [
    {
     "name": "stdout",
     "output_type": "stream",
     "text": [
      "語彙の数: 3789\n",
      "['日常', 'R15', '残酷な描写あり', '男主人公', '現代', '青春', 'シリアス', '女主人公', 'ほのぼの', '近未来']\n"
     ]
    }
   ],
   "source": [
    "from gensim.models import word2vec\n",
    "\n",
    "data = pd.read_csv(keyPath+'origin.csv', index_col=0)\n",
    "\n",
    "#[[文章の単語], [文章の単語]]を作成\n",
    "title_dic = []\n",
    "def make_title_dic(text):\n",
    "  if text is np.nan:\n",
    "    return\n",
    "  title_dic.append(text.split(' '))\n",
    "data['keyword'].map(make_title_dic)\n",
    "\n",
    "#学習\n",
    "model = word2vec.Word2Vec(title_dic,vector_size=200, min_count=5, window=5, epochs=20)\n",
    "\n",
    "#作成した辞書をcsvに保存して可視化(処理には関係ない)\n",
    "from gensim import corpora#辞書を作るためのもの\n",
    "dictionary = corpora.Dictionary(title_dic)#textsをもとに辞書を作成します\n",
    "dictionary.filter_extremes(no_below=5)#出現文書数が5回以下のものはさようなら\n",
    "dictionary.save_as_text(keyPath + 'dictionary.csv')#辞書を保存\n",
    "model = model.wv\n",
    "# In[4]:\n",
    "print('語彙の数:', len(model.index_to_key))  # 語彙の数\n",
    "print(model.index_to_key[:10])"
   ]
  },
  {
   "cell_type": "markdown",
   "metadata": {},
   "source": [
    "### 分散表現に変換"
   ]
  },
  {
   "cell_type": "code",
   "execution_count": 6,
   "metadata": {},
   "outputs": [
    {
     "name": "stdout",
     "output_type": "stream",
     "text": [
      "Jóvenes 'cp932' codec can't encode character '\\xf3' in position 1: illegal multibyte sequence\n",
      "OVL大賞7M‬ 'cp932' codec can't encode character '\\u202c' in position 7: illegal multibyte sequence\n",
      "集英社小説大賞２‬ 'cp932' codec can't encode character '\\u202c' in position 8: illegal multibyte sequence\n",
      "HJ2021‬ 'cp932' codec can't encode character '\\u202c' in position 6: illegal multibyte sequence\n",
      "李大根イ・デグン 'cp932' codec can't encode character '\\uf9e1' in position 0: illegal multibyte sequence\n",
      "李鍾彬イ・ジョンビン 'cp932' codec can't encode character '\\uf9e1' in position 0: illegal multibyte sequence\n",
      "OVL大賞7M‬ 'cp932' codec can't encode character '\\u202c' in position 7: illegal multibyte sequence\n",
      "集英社小説大賞２‬ 'cp932' codec can't encode character '\\u202c' in position 8: illegal multibyte sequence\n",
      "HJ2021‬ 'cp932' codec can't encode character '\\u202c' in position 6: illegal multibyte sequence\n",
      "龐統 'cp932' codec can't encode character '\\u9f90' in position 0: illegal multibyte sequence\n",
      "異世界⇆現実世界 'cp932' codec can't encode character '\\u21c6' in position 3: illegal multibyte sequence\n",
      "POP調♬ 'cp932' codec can't encode character '\\u266c' in position 4: illegal multibyte sequence\n",
      "現実世界↔異世界 'cp932' codec can't encode character '\\u2194' in position 4: illegal multibyte sequence\n",
      "良娣ユン氏 'cp932' codec can't encode character '\\u5a23' in position 1: illegal multibyte sequence\n",
      "噓 'cp932' codec can't encode character '\\u5653' in position 0: illegal multibyte sequence\n",
      "女子高生♡ 'cp932' codec can't encode character '\\u2661' in position 4: illegal multibyte sequence\n",
      "龐徳公 'cp932' codec can't encode character '\\u9f90' in position 0: illegal multibyte sequence\n",
      "龐徳公 'cp932' codec can't encode character '\\u9f90' in position 0: illegal multibyte sequence\n",
      "噓をつく 'cp932' codec can't encode character '\\u5653' in position 0: illegal multibyte sequence\n",
      "袁傪 'cp932' codec can't encode character '\\u50aa' in position 1: illegal multibyte sequence\n",
      "(ง 'cp932' codec can't encode character '\\u0e07' in position 1: illegal multibyte sequence\n",
      "°Θ°)ว 'cp932' codec can't encode character '\\u0e27' in position 4: illegal multibyte sequence\n",
      "٩( 'cp932' codec can't encode character '\\u0669' in position 0: illegal multibyte sequence\n",
      ")و 'cp932' codec can't encode character '\\u0648' in position 1: illegal multibyte sequence\n",
      "(ง˙o˙)ว 'cp932' codec can't encode character '\\u0e07' in position 1: illegal multibyte sequence\n",
      "ԅ(¯﹃¯ԅ) 'cp932' codec can't encode character '\\u0505' in position 0: illegal multibyte sequence\n",
      "(ง˙ω˙)ว 'cp932' codec can't encode character '\\u0e07' in position 1: illegal multibyte sequence\n",
      "美少女✕美男子 'cp932' codec can't encode character '\\u2715' in position 3: illegal multibyte sequence\n",
      "龐統 'cp932' codec can't encode character '\\u9f90' in position 0: illegal multibyte sequence\n",
      "賈詡 'cp932' codec can't encode character '\\u8a61' in position 1: illegal multibyte sequence\n",
      "公孫瓚 'cp932' codec can't encode character '\\u74da' in position 2: illegal multibyte sequence\n",
      "孔伷さん 'cp932' codec can't encode character '\\u4f37' in position 1: illegal multibyte sequence\n",
      "実況❗ 'cp932' codec can't encode character '\\u2757' in position 2: illegal multibyte sequence\n",
      "くだらんッ‼ 'cp932' codec can't encode character '\\u203c' in position 5: illegal multibyte sequence\n",
      "嚙むクセ 'cp932' codec can't encode character '\\u5699' in position 0: illegal multibyte sequence\n",
      "ゴーレムファイト‼︎ 'cp932' codec can't encode character '\\u203c' in position 8: illegal multibyte sequence\n",
      "(๑˃̵ᴗ˂̵) 'cp932' codec can't encode character '\\u0e51' in position 1: illegal multibyte sequence\n",
      "引っ搔き傷が 'cp932' codec can't encode character '\\u6414' in position 2: illegal multibyte sequence\n",
      "繫殖牝馬　 'cp932' codec can't encode character '\\u7e6b' in position 0: illegal multibyte sequence\n",
      "ミス•マーベル 'cp932' codec can't encode character '\\u2022' in position 2: illegal multibyte sequence\n",
      "黰嵒 'cp932' codec can't encode character '\\u9ef0' in position 0: illegal multibyte sequence\n",
      "鵜訔 'cp932' codec can't encode character '\\u8a14' in position 1: illegal multibyte sequence\n",
      "现代 'cp932' codec can't encode character '\\u73b0' in position 0: illegal multibyte sequence\n",
      "噓つき 'cp932' codec can't encode character '\\u5653' in position 0: illegal multibyte sequence\n",
      "♥マークがいっぱい 'cp932' codec can't encode character '\\u2665' in position 0: illegal multibyte sequence\n",
      "男主人公⁉️ 'cp932' codec can't encode character '\\u2049' in position 4: illegal multibyte sequence\n",
      "胃袋を摑め 'cp932' codec can't encode character '\\u6451' in position 3: illegal multibyte sequence\n",
      "雕納右訔 'cp932' codec can't encode character '\\u8a14' in position 3: illegal multibyte sequence\n",
      "黰嵒巽笶 'cp932' codec can't encode character '\\u9ef0' in position 0: illegal multibyte sequence\n",
      "黰嵒巽巳 'cp932' codec can't encode character '\\u9ef0' in position 0: illegal multibyte sequence\n",
      "雕納右訔 'cp932' codec can't encode character '\\u8a14' in position 3: illegal multibyte sequence\n",
      "黰嵒巽笶 'cp932' codec can't encode character '\\u9ef0' in position 0: illegal multibyte sequence\n",
      "どんな大物❓ 'cp932' codec can't encode character '\\u2753' in position 5: illegal multibyte sequence\n",
      "噓 'cp932' codec can't encode character '\\u5653' in position 0: illegal multibyte sequence\n",
      "❤❤❤❤❤❤❤❤❤❤ 'cp932' codec can't encode character '\\u2764' in position 0: illegal multibyte sequence\n",
      "女↔︎男 'cp932' codec can't encode character '\\u2194' in position 1: illegal multibyte sequence\n",
      "ざまぁ✖️ 'cp932' codec can't encode character '\\u2716' in position 3: illegal multibyte sequence\n",
      "狼✕兎 'cp932' codec can't encode character '\\u2715' in position 1: illegal multibyte sequence\n",
      "ぎゅう♡ 'cp932' codec can't encode character '\\u2661' in position 3: illegal multibyte sequence\n",
      "吞兵衛女子 'cp932' codec can't encode character '\\u541e' in position 0: illegal multibyte sequence\n",
      "噓発見器 'cp932' codec can't encode character '\\u5653' in position 0: illegal multibyte sequence\n",
      "貞操の危機⁉ 'cp932' codec can't encode character '\\u2049' in position 5: illegal multibyte sequence\n",
      "ω＝nt² 'cp932' codec can't encode character '\\xb2' in position 4: illegal multibyte sequence\n",
      "巨軀 'cp932' codec can't encode character '\\u8ec0' in position 1: illegal multibyte sequence\n",
      "ξ˚⊿˚)ξ 'cp932' codec can't encode character '\\u02da' in position 1: illegal multibyte sequence\n"
     ]
    }
   ],
   "source": [
    "#文章の分散表現を求める(単語ベクトルの平均)\n",
    "def getSentenceVector(text):\n",
    "  if text is np.nan:\n",
    "    return np.array([np.nan for _ in range(200)])\n",
    "  L = []\n",
    "  nonL = []\n",
    "  for w in text.split(' '):\n",
    "    if w in model.key_to_index:\n",
    "      L.append(model.get_vector(key=w))\n",
    "    else:\n",
    "      nonL.append(w)#辞書に場合\n",
    "  #辞書にないものを出力\n",
    "  with open('./data/keyworddata/nonDic.txt', 'w') as f:\n",
    "    for d in nonL:\n",
    "      try:\n",
    "        f.write(\"%s\\n\" % d)\n",
    "      except Exception as e:\n",
    "        print(d, e)\n",
    "  if len(L)==0:\n",
    "    return np.array([np.nan for _ in range(200)])\n",
    "  return np.array(L).mean(axis=0)\n",
    "\n",
    "#分散表現をnp.arrayの形に変換\n",
    "def makeVectorArrayList(data):\n",
    "  vec_list = []\n",
    "  for index, row in data.iterrows():\n",
    "    vec_list.append(getSentenceVector(row['keyword']))\n",
    "  return np.array(vec_list)\n",
    "\n",
    "data = pd.read_csv(keyPath+'origin.csv', index_col=0)\n",
    "vec_list_array = makeVectorArrayList(data)\n",
    "vec_data = pd.DataFrame(data=vec_list_array, dtype='float')\n",
    "vec_data.to_csv(keyPath+'key_vec_originalModel.csv')\n"
   ]
  },
  {
   "cell_type": "code",
   "execution_count": 7,
   "metadata": {},
   "outputs": [
    {
     "data": {
      "text/plain": [
       "48522"
      ]
     },
     "execution_count": 7,
     "metadata": {},
     "output_type": "execute_result"
    }
   ],
   "source": [
    "len(vec_data)"
   ]
  }
 ],
 "metadata": {
  "interpreter": {
   "hash": "6f371c1edc13f10b1623f8473fa71877fe279074a94f999a2097c9dc15f19259"
  },
  "kernelspec": {
   "display_name": "Python 3.9.2 64-bit",
   "name": "python3"
  },
  "language_info": {
   "codemirror_mode": {
    "name": "ipython",
    "version": 3
   },
   "file_extension": ".py",
   "mimetype": "text/x-python",
   "name": "python",
   "nbconvert_exporter": "python",
   "pygments_lexer": "ipython3",
   "version": "3.9.2"
  },
  "orig_nbformat": 4
 },
 "nbformat": 4,
 "nbformat_minor": 2
}
