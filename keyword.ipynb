{
 "cells": [
  {
   "cell_type": "markdown",
   "metadata": {},
   "source": [
    "## データの読み込み"
   ]
  },
  {
   "cell_type": "code",
   "execution_count": 1,
   "metadata": {},
   "outputs": [],
   "source": [
    "import pandas as pd\n",
    "import numpy as np\n",
    "\n",
    "#local 読み込み\n",
    "dataPath = \"datasets/\"\n",
    "Path = 'keyworddata/'"
   ]
  },
  {
   "cell_type": "markdown",
   "metadata": {},
   "source": [
    "## keywordを抽出"
   ]
  },
  {
   "cell_type": "code",
   "execution_count": 3,
   "metadata": {},
   "outputs": [],
   "source": [
    "test = pd.read_csv(dataPath + 'test.csv')\n",
    "train = pd.read_csv(dataPath +'train.csv')\n",
    "sub = pd.read_csv(dataPath +'sample_submission.csv')\n",
    "\n",
    "data = pd.concat([train, test], sort=False)#データの統合\n",
    "\n",
    "data['keyword'].to_csv(Path + 'origin.csv')"
   ]
  },
  {
   "cell_type": "code",
   "execution_count": 9,
   "metadata": {},
   "outputs": [],
   "source": [
    "from mojimoji import zen_to_han\n",
    "import re\n",
    "\n",
    "#全角を半角に変更\n",
    "def zen_han(text):\n",
    "  for i in range(len(text)):\n",
    "    text = zen_to_han(text)\n",
    "  return text\n",
    "\n",
    "# #数字を全て'0'に変更\n",
    "# def num_zero(text):\n",
    "#   return re.sub(r'[0-9]+', \"0\", text)\n",
    "\n",
    "#アルファベットを小文字に変換\n",
    "def lower_text(text):\n",
    "  return text.lower()\n",
    "\n",
    "#記号,特殊文字を削除(日本語,英語,カタカナ,数字以外削除)\n",
    "def delete_symbol(text):\n",
    "  return re.sub('[^0-9a-zA-Zぁ-んｦ-ﾟ一-龥ー]', '',text)\n",
    "\n",
    "#データのクリーン処理\n",
    "def clean_text(text):\n",
    "  text = zen_han(text)\n",
    "  text = lower_text(text)\n",
    "  text = delete_symbol(text)\n",
    "  return text\n",
    "\n",
    "def use_clean_text(text):\n",
    "  if text is np.nan:\n",
    "    return np.nan\n",
    "  tmp = list(map(str, text.split(' ')))\n",
    "  result = []\n",
    "  for i in range(len(tmp)):\n",
    "    w = clean_text(tmp[i])\n",
    "    if w != \"\":\n",
    "      result.append(w)\n",
    "  return \" \".join(result)\n",
    "\n",
    "#keywordをクリーニング処理\n",
    "data = pd.read_csv(Path+'origin.csv', index_col=0)\n",
    "data['cleaning'] = data['keyword'].apply(use_clean_text)\n",
    "data.to_csv(Path+'cleaning.csv')\n",
    "\n",
    "# use_clean_text(\"夢 マニア 富士の山 インターネット ダンディ シリアス コメディ ライト エンターテイメント ハイテク 友情 少年 高校生 幼馴染 現代(モダン)\")"
   ]
  }
 ],
 "metadata": {
  "interpreter": {
   "hash": "6f371c1edc13f10b1623f8473fa71877fe279074a94f999a2097c9dc15f19259"
  },
  "kernelspec": {
   "display_name": "Python 3.9.2 64-bit",
   "name": "python3"
  },
  "language_info": {
   "codemirror_mode": {
    "name": "ipython",
    "version": 3
   },
   "file_extension": ".py",
   "mimetype": "text/x-python",
   "name": "python",
   "nbconvert_exporter": "python",
   "pygments_lexer": "ipython3",
   "version": "3.9.2"
  },
  "orig_nbformat": 4
 },
 "nbformat": 4,
 "nbformat_minor": 2
}
