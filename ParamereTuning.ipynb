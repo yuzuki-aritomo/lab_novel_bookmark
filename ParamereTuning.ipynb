{
 "cells": [
  {
   "cell_type": "markdown",
   "metadata": {},
   "source": [
    "# Library Data 読み込み"
   ]
  },
  {
   "cell_type": "code",
   "execution_count": 1,
   "metadata": {},
   "outputs": [],
   "source": [
    "import pandas as pd\n",
    "import numpy as np\n",
    "from sklearn.ensemble import RandomForestClassifier\n",
    "from sklearn.model_selection import StratifiedKFold\n",
    "\n",
    "import pprint\n",
    "\n",
    "# CatBoostを利用した分類\n",
    "import lightgbm as lgb\n",
    "\n",
    "from sklearn.model_selection import GridSearchCV\n",
    "# 指標を計算するため\n",
    "from sklearn.metrics import accuracy_score, cohen_kappa_score, make_scorer, f1_score, recall_score\n",
    "import re\n",
    "from imblearn.pipeline import Pipeline\n",
    "import lightgbm as lgb\n",
    "from imblearn.over_sampling import SMOTE\n",
    "\n",
    "#google drive読み込み\n",
    "# from google.colab import drive, files\n",
    "# drive.mount('/content/drive')\n",
    "# dataPath = \"/content/drive/My Drive/01 Lab/novel_bookmark/datasets/\"\n",
    "# test = pd.read_csv(dataPath + 'test.csv')\n",
    "# train = pd.read_csv(dataPath +'train.csv')\n",
    "# sub = pd.read_csv(dataPath +'sample_submission.csv')\n",
    "\n",
    "#local 読み込み\n",
    "dataPath = './datasets/'\n",
    "titlePath = './data/titledata/'\n",
    "keyPath = './data/keyworddata/'\n",
    "storyPath = './data/storydata/'\n",
    "allPath = './data/all/'\n",
    "\n",
    "LenTrain = 40000"
   ]
  },
  {
   "cell_type": "code",
   "execution_count": 7,
   "metadata": {},
   "outputs": [
    {
     "name": "stdout",
     "output_type": "stream",
     "text": [
      "40000\n"
     ]
    }
   ],
   "source": [
    "data = pd.read_csv(\"./tmp/tdidf_50.csv\")\n",
    "\n",
    "train = data[:LenTrain]\n",
    "test = data[LenTrain:]\n",
    "train = train.rename(columns = lambda x:re.sub('[^A-Za-z0-9_]+', '', x))\n",
    "train = train.fillna(0)\n",
    "x_train = train.drop('fav_novel_cnt_bin', axis=1)#訓練データ\n",
    "y_train = train['fav_novel_cnt_bin']#訓練データの答え\n",
    "print(len(train))"
   ]
  },
  {
   "cell_type": "markdown",
   "metadata": {},
   "source": [
    "# Grid Search"
   ]
  },
  {
   "cell_type": "code",
   "execution_count": 8,
   "metadata": {},
   "outputs": [
    {
     "name": "stdout",
     "output_type": "stream",
     "text": [
      "Fitting 5 folds for each of 64 candidates, totalling 320 fits\n"
     ]
    }
   ],
   "source": [
    "skf = StratifiedKFold(\n",
    "  n_splits=5,\n",
    "  shuffle=True,\n",
    "  random_state=0\n",
    ")\n",
    "\n",
    "# モデルの学習\n",
    "model = Pipeline([\n",
    "  ('sampling', SMOTE()),\n",
    "  ('clf', lgb.LGBMClassifier())\n",
    "])\n",
    "\n",
    "# パラメーターを設定する\n",
    "param_grid = {\n",
    "  \"clf__max_depth\": [10, 25, 50, 75],\n",
    "  \"clf__learning_rate\" : [0.001,0.01,0.05,0.1],\n",
    "  \"clf__num_leaves\": [100,300,900,1200],\n",
    "  # \"clf__n_estimators\": [100,200,500]\n",
    "}\n",
    "# パラメータチューニングをグリッドサーチで行うために設定する\n",
    "## このGridSearchCV には注意が必要 scoring は そのスコアを基準にして最適化する\n",
    "grid_result = GridSearchCV(\n",
    "  estimator = model,\n",
    "  param_grid = param_grid,\n",
    "  scoring = 'balanced_accuracy',\n",
    "  cv = skf,\n",
    "  verbose=3,\n",
    "  return_train_score = True,\n",
    "  n_jobs = -1\n",
    ")\n",
    "\n",
    "grid_result.fit(x_train, y_train)\n",
    "\n",
    "gs_result = pd.DataFrame.from_dict(grid_result.cv_results_)\n",
    "gs_result.to_csv('./smallData/grid_result_tdidf.csv')\n",
    "\n",
    "pprint.pprint(grid_result.best_estimator_)"
   ]
  },
  {
   "cell_type": "code",
   "execution_count": null,
   "metadata": {},
   "outputs": [],
   "source": [
    "grid_result = pd.read_csv('./smallData/grid_result_0.csv', index_col=0)\n",
    "grid_result = grid_result.sort_values('rank_test_score')\n",
    "grid_result = grid_result[['rank_test_score', 'param_clf__num_leaves', 'param_clf__max_depth', 'param_clf__learning_rate', 'mean_test_score']]\n",
    "grid_result.to_csv('./tmp/grid_result_0_process.csv')"
   ]
  }
 ],
 "metadata": {
  "interpreter": {
   "hash": "6f371c1edc13f10b1623f8473fa71877fe279074a94f999a2097c9dc15f19259"
  },
  "kernelspec": {
   "display_name": "Python 3.9.2 64-bit",
   "language": "python",
   "name": "python3"
  },
  "language_info": {
   "codemirror_mode": {
    "name": "ipython",
    "version": 3
   },
   "file_extension": ".py",
   "mimetype": "text/x-python",
   "name": "python",
   "nbconvert_exporter": "python",
   "pygments_lexer": "ipython3",
   "version": "3.9.2"
  },
  "orig_nbformat": 4
 },
 "nbformat": 4,
 "nbformat_minor": 2
}
