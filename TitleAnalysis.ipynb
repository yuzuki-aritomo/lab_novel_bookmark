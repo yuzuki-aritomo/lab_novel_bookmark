{
 "cells": [
  {
   "cell_type": "markdown",
   "metadata": {},
   "source": [
    "## データの読み込み"
   ]
  },
  {
   "cell_type": "code",
   "execution_count": 1,
   "metadata": {},
   "outputs": [],
   "source": [
    "import pandas as pd\n",
    "import numpy as np\n",
    "\n",
    "#local 読み込み\n",
    "dataPath = \"datasets/\"\n",
    "titlePath = 'data/titledata/'"
   ]
  },
  {
   "cell_type": "markdown",
   "metadata": {},
   "source": [
    "## Titleを抽出してtitle_origin.csvに保存"
   ]
  },
  {
   "cell_type": "code",
   "execution_count": 2,
   "metadata": {},
   "outputs": [],
   "source": [
    "test = pd.read_csv(dataPath + 'test.csv')\n",
    "train = pd.read_csv(dataPath +'train.csv')\n",
    "sub = pd.read_csv(dataPath +'sample_submission.csv')\n",
    "\n",
    "data = pd.concat([train, test], sort=False)#データの統合\n",
    "\n",
    "data['title'].to_csv(titlePath + 'title_origin.csv')"
   ]
  },
  {
   "cell_type": "markdown",
   "metadata": {},
   "source": [
    "## 文字列のクリーニング前処理"
   ]
  },
  {
   "cell_type": "code",
   "execution_count": 3,
   "metadata": {},
   "outputs": [],
   "source": [
    "from mojimoji import zen_to_han\n",
    "import re\n",
    "\n",
    "#unicode正規化\n",
    "import unicodedata\n",
    "def normalize_unicode(text):\n",
    "  return unicodedata.normalize('NFKC', text)\n",
    "\n",
    "#全角を半角に変更\n",
    "def zen_han(text):\n",
    "  for i in range(len(text)):\n",
    "    text = zen_to_han(text)\n",
    "  return text\n",
    "\n",
    "#数字を全て'0'に変更\n",
    "def num_zero(text):\n",
    "  return re.sub(r'[0-9]+', \"0\", text)\n",
    "\n",
    "#アルファベットを小文字に変換\n",
    "def lower_text(text):\n",
    "  return text.lower()\n",
    "\n",
    "#記号,特殊文字を削除(日本語,英語,カタカナ,数字以外削除)\n",
    "def delete_symbol(text):\n",
    "  return re.sub('[^0-9a-zA-Zぁ-んァ-ヿｦ-ﾟ一-龥ー。、]', '、',text)\n",
    "\n",
    "#特定の文字列を変更\n",
    "A = [['たこ', 'タコ']]\n",
    "def change_word(text):\n",
    "  # for w in A:\n",
    "  #   print(w[0], w[1])\n",
    "  #   re.sub(w[0], w[1], text)\n",
    "  return text\n",
    "\n",
    "#特定の文字列を削除\n",
    "def clean_stop_word(text):\n",
    "  return text\n",
    "\n",
    "#データのクリーン処理\n",
    "def clean_text(text):\n",
    "  text = normalize_unicode(text)\n",
    "  # text = zen_han(text)\n",
    "  # text = num_zero(text)\n",
    "  # text = lower_text(text)\n",
    "  text = delete_symbol(text)\n",
    "  # text = change_word(text)\n",
    "  # text = clean_stop_word(text)\n",
    "  return text\n",
    "\n",
    "#titleをクリーニング処理\n",
    "data = pd.read_csv(titlePath+'title_origin.csv', index_col=0)\n",
    "data['cleaning'] = data['title'].apply(clean_text)\n",
    "data.to_csv(titlePath+'cleaning.csv')\n"
   ]
  },
  {
   "cell_type": "markdown",
   "metadata": {},
   "source": [
    "## 形態素解析"
   ]
  },
  {
   "cell_type": "code",
   "execution_count": 3,
   "metadata": {},
   "outputs": [],
   "source": [
    "import MeCab\n",
    "\n",
    "# MeCab による単語への分割関数,(名詞,形容詞,動詞)のみ残す\n",
    "def MorphologicalAnalysis(text):\n",
    "  if text is np.nan:#欠損値は欠損値のまま返す\n",
    "    return np.NaN\n",
    "  tagger = MeCab.Tagger()\n",
    "  words = []\n",
    "  for c in tagger.parse(text).splitlines()[:-1]:\n",
    "    surface, feature = c.split('\\t')\n",
    "    pos = feature.split(',')[0]\n",
    "    if pos in ['名詞', '動詞', '形容詞']:\n",
    "      words.append(surface)\n",
    "  return ' '.join(words)\n",
    "\n",
    "#形態素解析結果を'mecab'に代入\n",
    "data = pd.read_csv(titlePath+'cleaning.csv', index_col=0)\n",
    "data['mecab'] = data['cleaning'].apply(MorphologicalAnalysis)\n",
    "data.to_csv(titlePath+'mecab.csv')"
   ]
  },
  {
   "cell_type": "markdown",
   "metadata": {},
   "source": [
    "## stopワードの削除(未実装)"
   ]
  },
  {
   "cell_type": "markdown",
   "metadata": {},
   "source": [
    "## 自作辞書による分散表現"
   ]
  },
  {
   "cell_type": "code",
   "execution_count": null,
   "metadata": {},
   "outputs": [],
   "source": [
    "from gensim.models import word2vec\n",
    "\n",
    "data = pd.read_csv(titlePath+'mecab.csv', index_col=0)\n",
    "\n",
    "#[[文章の単語], [文章の単語]]を作成\n",
    "title_dic = []\n",
    "def make_title_dic(text):\n",
    "  if text is np.nan:\n",
    "    return\n",
    "  title_dic.append(text.split(' '))\n",
    "data['mecab'].map(make_title_dic)\n",
    "\n",
    "#学習\n",
    "model = word2vec.Word2Vec(title_dic,vector_size=200, min_count=5, window=5, epochs=20)\n",
    "\n",
    "#作成した辞書をcsvに保存して可視化(処理には関係ない)\n",
    "from gensim import corpora#辞書を作るためのもの\n",
    "dictionary = corpora.Dictionary(title_dic)#textsをもとに辞書を作成します\n",
    "dictionary.filter_extremes(no_below=5)#出現文書数が5回以下のものはさようなら\n",
    "dictionary.save_as_text(titlePath + 'dictionary.csv')#辞書を保存\n",
    "\n",
    "#学習結果を確認します\n",
    "print(model.wv.vectors.shape)  # 分散表現の形状\n",
    "print(model.wv.vectors)  #実際の分散表現、size次元の配列\n",
    "\n",
    "# In[4]:\n",
    "print(len(model.wv.index_to_key)) # 語彙の数\n",
    "print(model.wv.index_to_key[:10])"
   ]
  },
  {
   "cell_type": "markdown",
   "metadata": {},
   "source": [
    "### 文章ベクトルを作成して追加"
   ]
  },
  {
   "cell_type": "code",
   "execution_count": 7,
   "metadata": {},
   "outputs": [],
   "source": [
    "dimension = 200 #次元\n",
    "\n",
    "#文章の分散表現を求める(単語ベクトルの平均)\n",
    "def getSentenceVector(text):\n",
    "  if text is np.nan:\n",
    "    return np.array([np.nan for _ in range(dimension)])\n",
    "  L = []\n",
    "  for w in text.split(' '):\n",
    "    if w in model.wv.key_to_index:\n",
    "      L.append(model.wv.get_vector(key=w))\n",
    "  if len(L)==0:\n",
    "    return np.array([np.nan for _ in range(dimension)])\n",
    "  return np.array(L).mean(axis=0)\n",
    "\n",
    "#分散表現をnp.arrayの形に変換\n",
    "def makeVectorArrayList(data):\n",
    "  vec_list = []\n",
    "  for index, row in data.iterrows():\n",
    "    vec_list.append(getSentenceVector(row['mecab']))\n",
    "  return np.array(vec_list)\n",
    "\n",
    "data = pd.read_csv(titlePath+'mecab.csv', index_col=0)\n",
    "vec_list_array = makeVectorArrayList(data)\n",
    "vec_data = pd.DataFrame(data=vec_list_array, dtype='float')\n",
    "vec_data.to_csv(titlePath+'title_vec_originalLearned_'+ str(dimension) +'.csv')"
   ]
  },
  {
   "cell_type": "markdown",
   "metadata": {},
   "source": [
    "## word2vec 学習済みモデル"
   ]
  },
  {
   "cell_type": "markdown",
   "metadata": {},
   "source": [
    "### モデルの読み込み"
   ]
  },
  {
   "cell_type": "code",
   "execution_count": 2,
   "metadata": {},
   "outputs": [],
   "source": [
    "import gensim\n",
    "\n",
    "# chiVeデータのPATH（kv:KeyedVectors）\n",
    "model_path = './jalang/entity_vector.model.txt'\n",
    "# モデルの読み込み\n",
    "model = gensim.models.KeyedVectors.load_word2vec_format(model_path)"
   ]
  },
  {
   "cell_type": "code",
   "execution_count": null,
   "metadata": {},
   "outputs": [],
   "source": [
    "# モデルの読み込み(別の言語データ)\n",
    "# import gensim\n",
    "# from pprint import pprint\n",
    "# # chiVeデータのPATH（kv:KeyedVectors）\n",
    "# model_path = './jalang/chive-1.2-mc5.kv'\n",
    "# # モデルの読み込み\n",
    "# wv = gensim.models.KeyedVectors.load(model_path)\n",
    "# # 類似度上位10件を取得\n",
    "# match = wv.most_similar('大学', topn=10)\n",
    "# # 見やすい形式で表示\n",
    "# pprint(match)"
   ]
  },
  {
   "cell_type": "markdown",
   "metadata": {},
   "source": [
    "### 文章分散表現をもとめる"
   ]
  },
  {
   "cell_type": "code",
   "execution_count": 3,
   "metadata": {},
   "outputs": [],
   "source": [
    "nonDic = []\n",
    "\n",
    "#文章の分散表現を求める(単語ベクトルの平均)\n",
    "def getSentenceVector(text):\n",
    "  if text is np.nan:\n",
    "    return np.array([np.nan for _ in range(200)])\n",
    "  L = []\n",
    "  for w in text.split(' '):\n",
    "    if w in model.key_to_index:\n",
    "      L.append(model.get_vector(key=w))\n",
    "    else:\n",
    "      nonDic.append(w)\n",
    "  if len(L)==0:\n",
    "    return np.array([np.nan for _ in range(200)])\n",
    "  return np.array(L).mean(axis=0)\n",
    "\n",
    "#分散表現をnp.arrayの形に変換\n",
    "def makeVectorArrayList(data):\n",
    "  vec_list = []\n",
    "  for index, row in data.iterrows():\n",
    "    vec_list.append(getSentenceVector(row['mecab']))\n",
    "  return np.array(vec_list)\n",
    "\n",
    "data = pd.read_csv(titlePath+'mecab.csv', index_col=0)\n",
    "vec_list_array = makeVectorArrayList(data)\n",
    "vec_data = pd.DataFrame(data=vec_list_array, dtype='float')\n",
    "vec_data.to_csv(titlePath+'title_vec_learnedModel.csv')\n"
   ]
  },
  {
   "cell_type": "code",
   "execution_count": 7,
   "metadata": {},
   "outputs": [
    {
     "name": "stdout",
     "output_type": "stream",
     "text": [
      "6409\n"
     ]
    }
   ],
   "source": [
    "print(len(nonDic))"
   ]
  },
  {
   "cell_type": "markdown",
   "metadata": {},
   "source": [
    "## 機械学習"
   ]
  },
  {
   "cell_type": "code",
   "execution_count": null,
   "metadata": {},
   "outputs": [],
   "source": [
    "\n",
    "Sentence_vec_data = pd.read_csv(titlePath+'sentenceVec.csv', index_col=0)\n"
   ]
  }
 ],
 "metadata": {
  "interpreter": {
   "hash": "6f371c1edc13f10b1623f8473fa71877fe279074a94f999a2097c9dc15f19259"
  },
  "kernelspec": {
   "display_name": "Python 3.9.2 64-bit",
   "name": "python3"
  },
  "language_info": {
   "codemirror_mode": {
    "name": "ipython",
    "version": 3
   },
   "file_extension": ".py",
   "mimetype": "text/x-python",
   "name": "python",
   "nbconvert_exporter": "python",
   "pygments_lexer": "ipython3",
   "version": "3.9.2"
  },
  "orig_nbformat": 4
 },
 "nbformat": 4,
 "nbformat_minor": 2
}
