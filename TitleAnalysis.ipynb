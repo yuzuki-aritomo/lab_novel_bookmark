{
 "cells": [
  {
   "cell_type": "markdown",
   "metadata": {},
   "source": [
    "## データの読み込み"
   ]
  },
  {
   "cell_type": "code",
   "execution_count": 23,
   "metadata": {},
   "outputs": [],
   "source": [
    "import pandas as pd\n",
    "import numpy as np\n",
    "\n",
    "#local 読み込み\n",
    "dataPath = \"datasets/\"\n",
    "titlePath = 'titledata/'"
   ]
  },
  {
   "cell_type": "markdown",
   "metadata": {},
   "source": [
    "## Titleを抽出してtitle_origin.csvに保存"
   ]
  },
  {
   "cell_type": "code",
   "execution_count": 24,
   "metadata": {},
   "outputs": [],
   "source": [
    "test = pd.read_csv(dataPath + 'test.csv')\n",
    "train = pd.read_csv(dataPath +'train.csv')\n",
    "sub = pd.read_csv(dataPath +'sample_submission.csv')\n",
    "\n",
    "data = pd.concat([train, test], sort=False)#データの統合\n",
    "\n",
    "data['title'].to_csv(titlePath + 'title_origin.csv')\n",
    "\n",
    "# train = data[:len(train)]\n",
    "# test = data[len(train):]"
   ]
  },
  {
   "cell_type": "markdown",
   "metadata": {},
   "source": [
    "## 文字列のクリーニング前処理"
   ]
  },
  {
   "cell_type": "code",
   "execution_count": 44,
   "metadata": {},
   "outputs": [],
   "source": [
    "from mojimoji import zen_to_han\n",
    "import re\n",
    "\n",
    "#記号,特殊文字を削除\n",
    "def delete_symbol(text):\n",
    "  #「」〔〕“”〈〉『』【】＆＊・（）＄＃＠。、\n",
    "  # code_regex = re.compile('[!\"#$%&\\'\\\\\\\\()*+,-./:;<=>?@[\\\\]^_`{|}~「」〔〕“”〈〉『』【】＆＊・（）＄＃＠。、？！｀＋￥％～☆]')\n",
    "  # return code_regex.sub('', text)\n",
    "  return re.sub('[^0-9a-zA-Zぁ-んｦ-ﾟ一-龥ー]', '',text)\n",
    "\n",
    "#全角を半角に変更\n",
    "def zen_han(text):\n",
    "  for i in range(len(text)):\n",
    "    text = zen_to_han(text)\n",
    "  return text\n",
    "\n",
    "#数字を全て'0'に変更\n",
    "def num_zero(text):\n",
    "  return re.sub(r'[0-9]+', \"0\", text)\n",
    "\n",
    "#アルファベットを小文字に変換\n",
    "def lower_text(text):\n",
    "  return text.lower()\n",
    "\n",
    "#データのクリーン処理\n",
    "def clean_text(text):\n",
    "  text = zen_han(text)\n",
    "  text = num_zero(text)\n",
    "  text = lower_text(text)\n",
    "  text = delete_symbol(text)\n",
    "  return text\n",
    "\n",
    "# clean_text(\"\")\n",
    "# zen_han(\"タコヤキタベタイ\")\n",
    "data = pd.read_csv(titlePath+'title_origin.csv', index_col=0)\n",
    "data['target'] = data['title'].apply(clean_text)\n",
    "data.to_csv(titlePath+'clean_text.csv')\n"
   ]
  },
  {
   "cell_type": "markdown",
   "metadata": {},
   "source": [
    "## 形態素解析"
   ]
  },
  {
   "cell_type": "code",
   "execution_count": 16,
   "metadata": {},
   "outputs": [
    {
     "name": "stdout",
     "output_type": "stream",
     "text": [
      "[[1 1 0]\n",
      " [0 1 1]]\n",
      "['ラーメン', '大好き', '蕎麦']\n"
     ]
    },
    {
     "ename": "TypeError",
     "evalue": "fit_transform() missing 1 required positional argument: 'raw_documents'",
     "output_type": "error",
     "traceback": [
      "\u001b[1;31m---------------------------------------------------------------------------\u001b[0m",
      "\u001b[1;31mTypeError\u001b[0m                                 Traceback (most recent call last)",
      "\u001b[1;32m<ipython-input-16-72149a2bf771>\u001b[0m in \u001b[0;36m<module>\u001b[1;34m\u001b[0m\n\u001b[0;32m     32\u001b[0m \u001b[0mtextList\u001b[0m \u001b[1;33m=\u001b[0m \u001b[0mlist\u001b[0m\u001b[1;33m(\u001b[0m\u001b[0mtrain\u001b[0m\u001b[1;33m[\u001b[0m\u001b[1;34m'title'\u001b[0m\u001b[1;33m]\u001b[0m\u001b[1;33m.\u001b[0m\u001b[0mmap\u001b[0m\u001b[1;33m(\u001b[0m\u001b[0msplit_text_only_noun\u001b[0m\u001b[1;33m)\u001b[0m\u001b[1;33m)\u001b[0m\u001b[1;33m\u001b[0m\u001b[1;33m\u001b[0m\u001b[0m\n\u001b[0;32m     33\u001b[0m \u001b[0mdocs\u001b[0m \u001b[1;33m=\u001b[0m \u001b[0mnp\u001b[0m\u001b[1;33m.\u001b[0m\u001b[0marray\u001b[0m\u001b[1;33m(\u001b[0m\u001b[0mtextList\u001b[0m\u001b[1;33m)\u001b[0m\u001b[1;33m\u001b[0m\u001b[1;33m\u001b[0m\u001b[0m\n\u001b[1;32m---> 34\u001b[1;33m \u001b[0mbags\u001b[0m \u001b[1;33m=\u001b[0m \u001b[0mCountVectorizer\u001b[0m\u001b[1;33m.\u001b[0m\u001b[0mfit_transform\u001b[0m\u001b[1;33m(\u001b[0m\u001b[0mdocs\u001b[0m\u001b[1;33m)\u001b[0m\u001b[1;33m\u001b[0m\u001b[1;33m\u001b[0m\u001b[0m\n\u001b[0m\u001b[0;32m     35\u001b[0m \u001b[1;33m\u001b[0m\u001b[0m\n\u001b[0;32m     36\u001b[0m \u001b[0mprint\u001b[0m\u001b[1;33m(\u001b[0m\u001b[0mbags\u001b[0m\u001b[1;33m.\u001b[0m\u001b[0mtoarray\u001b[0m\u001b[1;33m(\u001b[0m\u001b[1;33m)\u001b[0m\u001b[1;33m)\u001b[0m\u001b[1;33m\u001b[0m\u001b[1;33m\u001b[0m\u001b[0m\n",
      "\u001b[1;31mTypeError\u001b[0m: fit_transform() missing 1 required positional argument: 'raw_documents'"
     ]
    }
   ],
   "source": [
    "import MeCab\n",
    "\n",
    "# MeCab による単語への分割関数,名詞のみ残す\n",
    "def split_text_only_noun(text):\n",
    "  tagger = MeCab.Tagger()\n",
    "  words = []\n",
    "  for c in tagger.parse(text).splitlines()[:-1]:\n",
    "    surface, feature = c.split('\\t')\n",
    "    pos = feature.split(',')[0]\n",
    "    if pos in ['名詞', '動詞', '形容詞']:\n",
    "      words.append(surface)\n",
    "  return ' '.join(words)"
   ]
  }
 ],
 "metadata": {
  "interpreter": {
   "hash": "6f371c1edc13f10b1623f8473fa71877fe279074a94f999a2097c9dc15f19259"
  },
  "kernelspec": {
   "display_name": "Python 3.9.2 64-bit",
   "name": "python3"
  },
  "language_info": {
   "codemirror_mode": {
    "name": "ipython",
    "version": 3
   },
   "file_extension": ".py",
   "mimetype": "text/x-python",
   "name": "python",
   "nbconvert_exporter": "python",
   "pygments_lexer": "ipython3",
   "version": "3.9.2"
  },
  "orig_nbformat": 4
 },
 "nbformat": 4,
 "nbformat_minor": 2
}
