{
 "cells": [
  {
   "cell_type": "code",
   "execution_count": 16,
   "metadata": {},
   "outputs": [],
   "source": [
    "import pandas as pd\n",
    "import numpy as np\n",
    "\n",
    "dataPath = \"./../datasets/\"\n",
    "titlePath = 'data/titledata/'"
   ]
  },
  {
   "cell_type": "code",
   "execution_count": null,
   "metadata": {},
   "outputs": [],
   "source": [
    "import requests\n",
    "\n",
    "url = 'https://script.google.com/macros/s/AKfycbxIF_dNMMKrcVTvtCoxXpItSkX8y9UyxaVtiKW-RBcfrxQn1nfLN6X6reF1rht4IVkc/exec'\n",
    "res = requests.get(url=url)\n",
    "def getTranslate(text):\n",
    "  try:\n",
    "    data = {\n",
    "      'data': text,\n",
    "      'source': 'ja',\n",
    "      'target': 'en',\n",
    "    }\n",
    "    res = requests.post(url=url, json=data)\n",
    "    return res.text\n",
    "  except Exception as e:\n",
    "    print(e)\n",
    "    return ''\n",
    "\n",
    "getTranslate([\"こんにちは\", \"明日のご飯\", \"今日の天気\"])"
   ]
  },
  {
   "cell_type": "code",
   "execution_count": 18,
   "metadata": {},
   "outputs": [],
   "source": [
    "test = pd.read_csv(dataPath + 'test.csv')\n",
    "train = pd.read_csv(dataPath +'train.csv')\n",
    "sub = pd.read_csv(dataPath +'sample_submission.csv')\n",
    "\n",
    "data = pd.concat([train, test], sort=False)#データの統合\n",
    "\n",
    "data['title'].to_csv(titlePath + 'title_origin.csv')"
   ]
  },
  {
   "cell_type": "code",
   "execution_count": null,
   "metadata": {},
   "outputs": [],
   "source": [
    "from tqdm import tqdm\n",
    "tqdm.pandas()\n",
    "\n",
    "#titleを英語変換\n",
    "data = pd.read_csv(titlePath+'title_origin.csv', index_col=0)\n",
    "\n",
    "# list(data['title'])\n",
    "\n",
    "# for i in tqdm(range(len(data)//1000+1)):\n",
    "#   tmp = data[i*1000:(i+1)*1000]\n",
    "#   tmp['en'] = tmp['title'].apply(getTranslate)\n",
    "#   readData = pd.read_csv(titlePath + 'english.csv', index_col=0)\n",
    "#   readData = pd.concat([readData, tmp], sort=False)#データの統合\n",
    "#   readData.to_csv(titlePath+'english.csv')\n",
    "tmp = getTranslate(list(data['title'])[:1000])"
   ]
  },
  {
   "cell_type": "code",
   "execution_count": null,
   "metadata": {},
   "outputs": [],
   "source": [
    "from tqdm import tqdm\n",
    "import time\n",
    "\n",
    "result = []\n",
    "L = list(data[\"title\"])\n",
    "n = len(data)//100+1\n",
    "for i in tqdm(range(n), total=n):\n",
    "  try:\n",
    "    res = getTranslate(L[i*100:(i+1)*100])\n",
    "    if(res == \"\"):\n",
    "      print(i, \"番目でエラー\")\n",
    "      continue\n",
    "    result.extend(res)\n",
    "  except Exception as e:\n",
    "    print(\"i番目でエラー：\")\n",
    "    print(e)\n",
    "    print(\"--------------\")"
   ]
  }
 ],
 "metadata": {
  "interpreter": {
   "hash": "6f371c1edc13f10b1623f8473fa71877fe279074a94f999a2097c9dc15f19259"
  },
  "kernelspec": {
   "display_name": "Python 3.9.2 64-bit",
   "name": "python3"
  },
  "language_info": {
   "codemirror_mode": {
    "name": "ipython",
    "version": 3
   },
   "file_extension": ".py",
   "mimetype": "text/x-python",
   "name": "python",
   "nbconvert_exporter": "python",
   "pygments_lexer": "ipython3",
   "version": "3.9.2"
  },
  "orig_nbformat": 4
 },
 "nbformat": 4,
 "nbformat_minor": 2
}
