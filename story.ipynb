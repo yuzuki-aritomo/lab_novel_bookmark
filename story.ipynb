{
 "cells": [
  {
   "cell_type": "markdown",
   "metadata": {},
   "source": [
    "## データの読み込み"
   ]
  },
  {
   "cell_type": "code",
   "execution_count": 1,
   "metadata": {},
   "outputs": [],
   "source": [
    "import pandas as pd\n",
    "import numpy as np\n",
    "\n",
    "#local 読み込み\n",
    "dataPath = \"datasets/\"\n",
    "storyPath = 'data/storydata/'"
   ]
  },
  {
   "cell_type": "markdown",
   "metadata": {},
   "source": [
    "## データの読み込み"
   ]
  },
  {
   "cell_type": "code",
   "execution_count": 5,
   "metadata": {},
   "outputs": [],
   "source": [
    "test = pd.read_csv(dataPath + 'test.csv')\n",
    "train = pd.read_csv(dataPath +'train.csv')\n",
    "sub = pd.read_csv(dataPath +'sample_submission.csv')\n",
    "\n",
    "data = pd.concat([train, test], sort=False)#データの統合\n",
    "\n",
    "data['story'].to_csv(storyPath + 'origin.csv')"
   ]
  },
  {
   "cell_type": "markdown",
   "metadata": {},
   "source": [
    "## 文字列のクリーニング処理"
   ]
  },
  {
   "cell_type": "code",
   "execution_count": 11,
   "metadata": {},
   "outputs": [],
   "source": [
    "from mojimoji import zen_to_han\n",
    "import re\n",
    "\n",
    "#unicode正規化\n",
    "import unicodedata\n",
    "def normalize_unicode(text):\n",
    "  return unicodedata.normalize('NFKC', text)\n",
    "\n",
    "#全角を半角に変更\n",
    "# def zen_han(text):\n",
    "#   for i in range(len(text)):\n",
    "#     text = zen_to_han(text)\n",
    "#   return text\n",
    "\n",
    "#数字を全て'0'に変更\n",
    "# def num_zero(text):\n",
    "#   return re.sub(r'[0-9]+', \"0\", text)\n",
    "\n",
    "#アルファベットを小文字に変換\n",
    "# def lower_text(text):\n",
    "#   return text.lower()\n",
    "\n",
    "#urlの削除\n",
    "def delete_url(text):\n",
    "  return re.sub(r'https?://[\\w/:%#\\$&\\?\\(\\)~\\.=\\+\\-]+', '', text)\n",
    "\n",
    "#記号,特殊文字を削除(数字, 英語, ひらがな,カタカナ,漢字,ー。、以外'、'に変換)\n",
    "def delete_symbol(text):\n",
    "  return re.sub('[^0-9a-zA-Zぁ-んァ-ヿｦ-ﾟ一-龥ー。、]', '、',text)\n",
    "\n",
    "#データのクリーン処理\n",
    "def clean_text(text):\n",
    "  text = normalize_unicode(text)\n",
    "  text = delete_url(text)\n",
    "  text = delete_symbol(text)\n",
    "  return text\n",
    "\n",
    "#titleをクリーニング処理\n",
    "data = pd.read_csv(storyPath+'origin.csv', index_col=0)\n",
    "data['cleaning'] = data['story'].apply(clean_text)\n",
    "data.to_csv(storyPath+'cleaning.csv')\n",
    "\n"
   ]
  },
  {
   "cell_type": "markdown",
   "metadata": {},
   "source": [
    "## 形態素解析"
   ]
  },
  {
   "cell_type": "code",
   "execution_count": 12,
   "metadata": {},
   "outputs": [],
   "source": [
    "import MeCab\n",
    "\n",
    "# MeCab による単語への分割関数,(名詞,形容詞,動詞)のみ残す\n",
    "def MorphologicalAnalysis(text):\n",
    "  if text is np.nan:#欠損値は欠損値のまま返す\n",
    "    return np.NaN\n",
    "  tagger = MeCab.Tagger()\n",
    "  words = []\n",
    "  for c in tagger.parse(text).splitlines()[:-1]:\n",
    "    surface, feature = c.split('\\t')\n",
    "    pos = feature.split(',')[0]\n",
    "    if pos in ['名詞', '動詞', '形容詞']:\n",
    "      words.append(surface)\n",
    "  return ' '.join(words)\n",
    "\n",
    "#形態素解析結果を'mecab'に代入\n",
    "data = pd.read_csv(storyPath+'cleaning.csv', index_col=0)\n",
    "data['mecab'] = data['cleaning'].apply(MorphologicalAnalysis)\n",
    "data.to_csv(storyPath+'mecab.csv')"
   ]
  },
  {
   "cell_type": "code",
   "execution_count": null,
   "metadata": {},
   "outputs": [],
   "source": [
    "from sudachipy import tokenizer\n",
    "from sudachipy import dictionary\n",
    "\n",
    "tokenizer_obj = dictionary.Dictionary().create()\n",
    "\n",
    "# sudachi による単語への分割関数,(名詞,形容詞,動詞)のみ残す\n",
    "def AnalysisbySudachi(text):\n",
    "  if text is np.nan:#欠損値は欠損値のまま返す\n",
    "    return np.NaN\n",
    "  mode = tokenizer.Tokenizer.SplitMode.C #モードCの一番長い形で分ける\n",
    "  results =[m.surface() for m in tokenizer_obj.tokenize(text, mode)]\n",
    "  word_list = []\n",
    "  for word in results:\n",
    "    if not (word == \"\"): #何故か分かち書きの結果として空白データ（''）ができたための省く処理\n",
    "      normalize = tokenizer_obj.tokenize(word, mode)[0].normalized_form() #正規化（標準化？）してなるべく言葉の揺れを無くす　e.g. 打込む → 打ち込む かつ丼 → カツ丼\n",
    "      pos = tokenizer_obj.tokenize(normalize, mode)[0].part_of_speech()[0]\n",
    "      if pos in  [\"名詞\", \"動詞\", \"形容詞\"]:  # 対象とする品詞を指定\n",
    "        word = tokenizer_obj.tokenize(normalize, mode)[0].dictionary_form()\n",
    "        word_list.append(word)\n",
    "  return \" \".join(word_list) #スペースで繋げていく\n",
    "\n",
    "#形態素解析結果を'sudachi'に代入\n",
    "data = pd.read_csv(storyPath+'cleaning.csv', index_col=0)\n",
    "data['sudachi'] = data['cleaning'].apply(AnalysisbySudachi)\n",
    "data.to_csv(storyPath+'sudachi.csv')\n"
   ]
  },
  {
   "cell_type": "code",
   "execution_count": 11,
   "metadata": {},
   "outputs": [],
   "source": [
    "data = pd.read_csv(storyPath+'sudachi.csv')\n",
    "\n",
    "from collections import Counter\n",
    "Cnt = Counter()\n",
    "\n",
    "def CountStoryWords(text):\n",
    "  if text is np.nan:#欠損値は欠損値のまま返す\n",
    "    return 0\n",
    "  tmp = text.split()\n",
    "  for t in tmp:\n",
    "    Cnt[t] += 1\n",
    "\n",
    "t = data['sudachi'].apply(CountStoryWords)"
   ]
  },
  {
   "cell_type": "code",
   "execution_count": 20,
   "metadata": {},
   "outputs": [
    {
     "name": "stdout",
     "output_type": "stream",
     "text": [
      "904\n",
      "1248\n"
     ]
    }
   ],
   "source": [
    "Cnt.most_common()\n",
    "print(Cnt['ファンタジー'])\n",
    "print(Cnt['現実'])\n",
    "# data = pd.read_csv(storyPath + 'count.csv')\n",
    "# data['count'].sum()"
   ]
  },
  {
   "cell_type": "markdown",
   "metadata": {},
   "source": [
    "## 学習済みモデルによる分散表現"
   ]
  },
  {
   "cell_type": "code",
   "execution_count": 21,
   "metadata": {},
   "outputs": [],
   "source": [
    "import gensim\n",
    "\n",
    "# chiVeデータのPATH（kv:KeyedVectors）\n",
    "model_path = './jalang/entity_vector.model.txt'\n",
    "# モデルの読み込み\n",
    "model2 = gensim.models.KeyedVectors.load_word2vec_format(model_path)"
   ]
  },
  {
   "cell_type": "code",
   "execution_count": 23,
   "metadata": {},
   "outputs": [
    {
     "data": {
      "text/plain": [
       "0.426629"
      ]
     },
     "execution_count": 23,
     "metadata": {},
     "output_type": "execute_result"
    }
   ],
   "source": [
    "model2.similarity('ファンタジー','現実')"
   ]
  },
  {
   "cell_type": "code",
   "execution_count": 16,
   "metadata": {},
   "outputs": [],
   "source": [
    "from tqdm import tqdm\n",
    "\n",
    "#文章の分散表現を求める(単語ベクトルの平均)\n",
    "def getSentenceVector(text):\n",
    "  if text is np.nan:\n",
    "    return np.array([np.nan for _ in range(200)])\n",
    "  L = []\n",
    "  for w in text.split(' '):\n",
    "    if w in model.key_to_index:\n",
    "      L.append(model.get_vector(key=w))\n",
    "  if len(L)==0:\n",
    "    return np.array([np.nan for _ in range(200)])\n",
    "  return np.array(L).mean(axis=0)\n",
    "\n",
    "#分散表現をnp.arrayの形に変換\n",
    "def makeVectorArrayList(data):\n",
    "  vec_list = []\n",
    "  for index, row in data.iterrows():\n",
    "    vec_list.append(getSentenceVector(row['mecab']))\n",
    "  return np.array(vec_list)\n",
    "\n",
    "data = pd.read_csv(storyPath+'mecab.csv', index_col=0)\n",
    "vec_list_array = makeVectorArrayList(data)\n",
    "vec_data = pd.DataFrame(data=vec_list_array, dtype='float')\n",
    "vec_data.to_csv(storyPath+'vec_learnedModel.csv')\n"
   ]
  }
 ],
 "metadata": {
  "interpreter": {
   "hash": "6f371c1edc13f10b1623f8473fa71877fe279074a94f999a2097c9dc15f19259"
  },
  "kernelspec": {
   "display_name": "Python 3.9.2 64-bit",
   "name": "python3"
  },
  "language_info": {
   "codemirror_mode": {
    "name": "ipython",
    "version": 3
   },
   "file_extension": ".py",
   "mimetype": "text/x-python",
   "name": "python",
   "nbconvert_exporter": "python",
   "pygments_lexer": "ipython3",
   "version": "3.9.2"
  },
  "orig_nbformat": 4
 },
 "nbformat": 4,
 "nbformat_minor": 2
}
